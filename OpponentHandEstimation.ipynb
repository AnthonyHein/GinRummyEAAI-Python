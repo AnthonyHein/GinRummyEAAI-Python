{
 "cells": [
  {
   "cell_type": "code",
   "execution_count": 5,
   "metadata": {},
   "outputs": [],
   "source": [
    "import numpy as np"
   ]
  },
  {
   "cell_type": "code",
   "execution_count": 6,
   "metadata": {},
   "outputs": [],
   "source": [
    "from sklearn.ensemble import RandomForestClassifier"
   ]
  },
  {
   "cell_type": "code",
   "execution_count": 7,
   "metadata": {},
   "outputs": [],
   "source": [
    "from sklearn.metrics import confusion_matrix"
   ]
  },
  {
   "cell_type": "code",
   "execution_count": 8,
   "metadata": {},
   "outputs": [],
   "source": [
    "states = np.load('states2.npy')\n",
    "hands = np.load('hands.npy')"
   ]
  },
  {
   "cell_type": "code",
   "execution_count": 10,
   "metadata": {},
   "outputs": [],
   "source": [
    "states2d = states.reshape(2571176, 4*52)"
   ]
  },
  {
   "cell_type": "code",
   "execution_count": 11,
   "metadata": {},
   "outputs": [
    {
     "data": {
      "text/plain": [
       "(2571176, 4, 52)"
      ]
     },
     "execution_count": 11,
     "metadata": {},
     "output_type": "execute_result"
    }
   ],
   "source": [
    "states.shape"
   ]
  },
  {
   "cell_type": "code",
   "execution_count": 28,
   "metadata": {},
   "outputs": [],
   "source": [
    "sum_states2d = np.sum(states2d, axis=1)"
   ]
  },
  {
   "cell_type": "code",
   "execution_count": 31,
   "metadata": {},
   "outputs": [
    {
     "data": {
      "text/plain": [
       "array([12., 12., 14., 14., 16., 16., 18., 18., 20., 20., 22., 22., 24.,\n",
       "       12., 12., 14., 14., 16., 16., 18., 18., 20., 20., 22., 22., 24.,\n",
       "       12., 12., 14., 14., 16., 16., 18., 18., 20., 20., 22., 22., 12.,\n",
       "       12., 14., 14., 16., 16., 18., 18., 20., 20., 22., 22.])"
      ]
     },
     "execution_count": 31,
     "metadata": {},
     "output_type": "execute_result"
    }
   ],
   "source": [
    "sum_states2d[:50]"
   ]
  },
  {
   "cell_type": "code",
   "execution_count": 36,
   "metadata": {},
   "outputs": [],
   "source": [
    "tempX = states2d[sum_states2d>20]"
   ]
  },
  {
   "cell_type": "code",
   "execution_count": 37,
   "metadata": {},
   "outputs": [],
   "source": [
    "tempY = hands[sum_states2d>20]"
   ]
  },
  {
   "cell_type": "code",
   "execution_count": 38,
   "metadata": {},
   "outputs": [
    {
     "data": {
      "text/plain": [
       "(737099, 52)"
      ]
     },
     "execution_count": 38,
     "metadata": {},
     "output_type": "execute_result"
    }
   ],
   "source": [
    "tempY.shape"
   ]
  },
  {
   "cell_type": "code",
   "execution_count": 4,
   "metadata": {},
   "outputs": [
    {
     "data": {
      "text/plain": [
       "array([[0., 0., 0., 0., 0., 0., 0., 0., 0., 0., 0., 0., 0., 0., 0., 0.,\n",
       "        0., 0., 0., 0., 0., 0., 1., 0., 0., 0., 0., 0., 0., 0., 0., 0.,\n",
       "        0., 0., 0., 0., 0., 0., 0., 0., 0., 0., 0., 0., 0., 0., 0., 0.,\n",
       "        0., 0., 0., 0.],\n",
       "       [0., 0., 0., 0., 0., 0., 0., 0., 0., 0., 0., 0., 0., 0., 0., 0.,\n",
       "        0., 0., 0., 0., 0., 0., 0., 0., 0., 0., 0., 0., 0., 0., 0., 0.,\n",
       "        0., 0., 0., 0., 0., 0., 0., 0., 0., 0., 0., 0., 0., 0., 0., 0.,\n",
       "        0., 0., 0., 0.],\n",
       "       [0., 0., 0., 0., 0., 1., 0., 0., 0., 0., 0., 0., 0., 0., 0., 0.,\n",
       "        0., 0., 0., 0., 0., 0., 0., 0., 0., 0., 0., 0., 0., 0., 0., 0.,\n",
       "        0., 0., 0., 0., 0., 0., 0., 0., 0., 0., 0., 0., 0., 0., 0., 0.,\n",
       "        0., 0., 0., 0.]])"
      ]
     },
     "execution_count": 4,
     "metadata": {},
     "output_type": "execute_result"
    }
   ],
   "source": [
    "states[0]"
   ]
  },
  {
   "cell_type": "code",
   "execution_count": 62,
   "metadata": {},
   "outputs": [],
   "source": [
    "rf0 = RandomForestClassifier()"
   ]
  },
  {
   "cell_type": "code",
   "execution_count": 63,
   "metadata": {
    "scrolled": true
   },
   "outputs": [
    {
     "data": {
      "text/plain": [
       "RandomForestClassifier()"
      ]
     },
     "execution_count": 63,
     "metadata": {},
     "output_type": "execute_result"
    }
   ],
   "source": [
    "rf0.fit(states2d[:100000], hands[:100000])"
   ]
  },
  {
   "cell_type": "code",
   "execution_count": 16,
   "metadata": {},
   "outputs": [],
   "source": [
    "def predict_hand(probs, t):\n",
    "    return np.array([roundt(a[0][1], t) for a in probs])"
   ]
  },
  {
   "cell_type": "code",
   "execution_count": 90,
   "metadata": {},
   "outputs": [
    {
     "data": {
      "text/plain": [
       "[array([[0.97, 0.03]]), array([[0.25, 0.75]]), array([[0.2, 0.8]])]"
      ]
     },
     "execution_count": 90,
     "metadata": {},
     "output_type": "execute_result"
    }
   ],
   "source": [
    "rf0.predict_proba(states2d[100000:100001])[:3]"
   ]
  },
  {
   "cell_type": "code",
   "execution_count": 99,
   "metadata": {},
   "outputs": [
    {
     "data": {
      "text/plain": [
       "array([0.03, 0.75, 0.8 , 0.09, 0.09, 0.27, 0.04, 0.06, 0.07, 0.03, 0.04,\n",
       "       0.03, 0.04, 0.8 , 0.58, 0.09, 0.78, 0.1 , 0.02, 0.08, 0.8 , 0.77,\n",
       "       0.73, 0.02, 0.04, 0.05, 0.08, 0.05, 0.1 , 0.76, 0.1 , 0.08, 0.03,\n",
       "       0.03, 0.06, 0.01, 0.05, 0.05, 0.02, 0.12, 0.78, 0.03, 0.04, 0.04,\n",
       "       0.08, 0.02, 0.11, 0.07, 0.03, 0.02, 0.01, 0.03])"
      ]
     },
     "execution_count": 99,
     "metadata": {},
     "output_type": "execute_result"
    }
   ],
   "source": [
    "np.array(rf0.predict_proba(states2d[100000:100002]))[:,:,1][:,0]"
   ]
  },
  {
   "cell_type": "code",
   "execution_count": 88,
   "metadata": {
    "scrolled": true
   },
   "outputs": [
    {
     "data": {
      "text/plain": [
       "[array([[0.97, 0.03],\n",
       "        [0.23, 0.77]]), array([[0.25, 0.75],\n",
       "        [0.96, 0.04]]), array([[0.2 , 0.8 ],\n",
       "        [0.98, 0.02]]), array([[0.91, 0.09],\n",
       "        [0.89, 0.11]]), array([[0.91, 0.09],\n",
       "        [0.92, 0.08]]), array([[0.73, 0.27],\n",
       "        [0.9 , 0.1 ]]), array([[0.96, 0.04],\n",
       "        [0.26, 0.74]]), array([[0.94, 0.06],\n",
       "        [0.97, 0.03]]), array([[0.93, 0.07],\n",
       "        [0.95, 0.05]]), array([[0.97, 0.03],\n",
       "        [0.97, 0.03]]), array([[0.96, 0.04],\n",
       "        [0.95, 0.05]]), array([[0.97, 0.03],\n",
       "        [0.98, 0.02]]), array([[0.96, 0.04],\n",
       "        [0.98, 0.02]]), array([[0.2 , 0.8 ],\n",
       "        [0.97, 0.03]]), array([[0.42, 0.58],\n",
       "        [0.95, 0.05]]), array([[0.91, 0.09],\n",
       "        [0.88, 0.12]]), array([[0.22, 0.78],\n",
       "        [0.97, 0.03]]), array([[0.9 , 0.1 ],\n",
       "        [0.93, 0.07]]), array([[0.98, 0.02],\n",
       "        [0.88, 0.12]]), array([[0.92, 0.08],\n",
       "        [0.24, 0.76]]), array([[0.2 , 0.8 ],\n",
       "        [0.96, 0.04]]), array([[0.23, 0.77],\n",
       "        [0.97, 0.03]]), array([[0.27, 0.73],\n",
       "        [0.94, 0.06]]), array([[0.98, 0.02],\n",
       "        [0.98, 0.02]]), array([[0.96, 0.04],\n",
       "        [0.97, 0.03]]), array([[0.95, 0.05],\n",
       "        [0.98, 0.02]]), array([[0.92, 0.08],\n",
       "        [0.91, 0.09]]), array([[0.95, 0.05],\n",
       "        [0.93, 0.07]]), array([[0.9 , 0.1 ],\n",
       "        [0.92, 0.08]]), array([[0.24, 0.76],\n",
       "        [0.97, 0.03]]), array([[0.9 , 0.1 ],\n",
       "        [0.94, 0.06]]), array([[0.92, 0.08],\n",
       "        [0.21, 0.79]]), array([[0.97, 0.03],\n",
       "        [0.22, 0.78]]), array([[0.97, 0.03],\n",
       "        [0.22, 0.78]]), array([[0.94, 0.06],\n",
       "        [0.26, 0.74]]), array([[0.99, 0.01],\n",
       "        [0.97, 0.03]]), array([[0.95, 0.05],\n",
       "        [0.98, 0.02]]), array([[0.95, 0.05],\n",
       "        [0.94, 0.06]]), array([[0.98, 0.02],\n",
       "        [0.99, 0.01]]), array([[0.88, 0.12],\n",
       "        [0.85, 0.15]]), array([[0.22, 0.78],\n",
       "        [0.92, 0.08]]), array([[0.97, 0.03],\n",
       "        [0.19, 0.81]]), array([[0.96, 0.04],\n",
       "        [0.22, 0.78]]), array([[0.96, 0.04],\n",
       "        [0.2 , 0.8 ]]), array([[0.92, 0.08],\n",
       "        [0.87, 0.13]]), array([[0.98, 0.02],\n",
       "        [0.94, 0.06]]), array([[0.89, 0.11],\n",
       "        [0.92, 0.08]]), array([[0.93, 0.07],\n",
       "        [0.96, 0.04]]), array([[0.97, 0.03],\n",
       "        [0.99, 0.01]]), array([[0.98, 0.02],\n",
       "        [0.98, 0.02]]), array([[0.99, 0.01],\n",
       "        [0.97, 0.03]]), array([[0.97, 0.03],\n",
       "        [0.97, 0.03]])]"
      ]
     },
     "execution_count": 88,
     "metadata": {},
     "output_type": "execute_result"
    }
   ],
   "source": [
    "rf0.predict_proba(states2d[100000:100002])"
   ]
  },
  {
   "cell_type": "code",
   "execution_count": 71,
   "metadata": {},
   "outputs": [
    {
     "data": {
      "text/plain": [
       "array([1, 0, 0, 0, 0, 0, 1, 0, 0, 0, 0, 0, 0, 0, 0, 0, 0, 0, 0, 1, 0, 0,\n",
       "       0, 0, 0, 0, 0, 0, 0, 0, 0, 1, 1, 1, 1, 0, 0, 0, 0, 0, 0, 1, 1, 1,\n",
       "       0, 0, 0, 0, 0, 0, 0, 0])"
      ]
     },
     "execution_count": 71,
     "metadata": {},
     "output_type": "execute_result"
    }
   ],
   "source": [
    "predict_hand(rf0.predict_proba(states2d[100001:100002]), 0.3)"
   ]
  },
  {
   "cell_type": "code",
   "execution_count": 84,
   "metadata": {},
   "outputs": [
    {
     "data": {
      "text/plain": [
       "array([[ 1.,  1., -1.,  0.,  0.,  0.,  0.,  0.,  0.,  0.,  0.,  0.,  0.,\n",
       "        -1.,  0.,  0.,  1.,  1.,  0., -1.,  0.,  0.,  0.,  0.,  0.,  0.,\n",
       "        -1.,  1., -1.,  0.,  0.,  0.,  1.,  0.,  0.,  0.,  0.,  0.,  0.,\n",
       "         0.,  0.,  0.,  1., -1.,  0.,  1.,  0.,  0.,  0.,  0.,  0.,  0.]])"
      ]
     },
     "execution_count": 84,
     "metadata": {},
     "output_type": "execute_result"
    }
   ],
   "source": [
    "hands[1000000:1000001]-predict_hand(rf0.predict_proba(states2d[1000000:1000001]), 0.3)"
   ]
  },
  {
   "cell_type": "code",
   "execution_count": 19,
   "metadata": {},
   "outputs": [],
   "source": [
    "def roundt(x, t):\n",
    "    return 1 if x > t else 0"
   ]
  },
  {
   "cell_type": "code",
   "execution_count": 49,
   "metadata": {
    "scrolled": true
   },
   "outputs": [
    {
     "data": {
      "text/plain": [
       "array([0, 1, 0, 1, 0, 0, 0, 0, 0, 0, 0, 0, 0, 1, 1, 0, 1, 1, 0, 0, 0, 0,\n",
       "       0, 0, 0, 0, 1, 1, 0, 1, 1, 0, 0, 1, 0, 0, 0, 0, 0, 0, 1, 1, 0, 1,\n",
       "       0, 0, 0, 0, 0, 0, 0, 0])"
      ]
     },
     "execution_count": 49,
     "metadata": {},
     "output_type": "execute_result"
    }
   ],
   "source": [
    "np.array([roundt(a[0][1], 0.3) for a in rf0.predict_proba(tempX[10000:10001])])"
   ]
  },
  {
   "cell_type": "code",
   "execution_count": 52,
   "metadata": {},
   "outputs": [
    {
     "data": {
      "text/plain": [
       "array([[33,  9],\n",
       "       [ 5,  5]])"
      ]
     },
     "execution_count": 52,
     "metadata": {},
     "output_type": "execute_result"
    }
   ],
   "source": [
    "confusion_matrix(tempY[10000], np.array([roundt(a[0][1], 0.3) for a in rf0.predict_proba(tempX[10000:10001])]))"
   ]
  },
  {
   "cell_type": "code",
   "execution_count": 55,
   "metadata": {},
   "outputs": [
    {
     "data": {
      "text/plain": [
       "array([[37,  5],\n",
       "       [ 3,  7]])"
      ]
     },
     "execution_count": 55,
     "metadata": {},
     "output_type": "execute_result"
    }
   ],
   "source": [
    "confusion_matrix(tempY[10001], np.array([roundt(a[0][1], 0.3) for a in rf0.predict_proba(tempX[10001:10002])]))"
   ]
  },
  {
   "cell_type": "code",
   "execution_count": 57,
   "metadata": {},
   "outputs": [
    {
     "data": {
      "text/plain": [
       "array([[31, 11],\n",
       "       [ 2,  8]])"
      ]
     },
     "execution_count": 57,
     "metadata": {},
     "output_type": "execute_result"
    }
   ],
   "source": [
    "confusion_matrix(tempY[10002], np.array([roundt(a[0][1], 0.25) for a in rf0.predict_proba(tempX[10002:10003])]))"
   ]
  },
  {
   "cell_type": "code",
   "execution_count": 12,
   "metadata": {},
   "outputs": [],
   "source": [
    "def get_metrics(model, X, Y, t):\n",
    "    all_probs = model.predict_proba(X)\n",
    "    accs, precs, recs = [], [], []\n",
    "    for i,y in enumerate(Y):\n",
    "        probs = np.array(all_probs)[:,:,1][:,i]\n",
    "        preds = [roundt(p, t) for p in probs]\n",
    "        tn, fp, fn, tp = confusion_matrix(y, preds).ravel()\n",
    "        acc, prec, rec = (tp+tn)/(tn+fp+fn+tp), tp/(tp+fp), tp/(tp+fn)\n",
    "        accs.append(acc)\n",
    "        precs.append(prec)\n",
    "        recs.append(rec)\n",
    "    return accs, precs, recs"
   ]
  },
  {
   "cell_type": "code",
   "execution_count": 114,
   "metadata": {},
   "outputs": [],
   "source": [
    "accs, precs, recs = get_metrics(rf0, states22d[100000:101000], hands[100000:101000], 0.3)"
   ]
  },
  {
   "cell_type": "code",
   "execution_count": 115,
   "metadata": {},
   "outputs": [
    {
     "data": {
      "text/plain": [
       "(0.7914038461538462, 0.4351283355533355, 0.2911)"
      ]
     },
     "execution_count": 115,
     "metadata": {},
     "output_type": "execute_result"
    }
   ],
   "source": [
    "np.mean(accs), np.mean(precs), np.mean(recs)"
   ]
  },
  {
   "cell_type": "code",
   "execution_count": 116,
   "metadata": {},
   "outputs": [],
   "source": [
    "accs, precs, recs = get_metrics(rf0, states22d[100000:101000], hands[100000:101000], 0.25)"
   ]
  },
  {
   "cell_type": "code",
   "execution_count": 117,
   "metadata": {},
   "outputs": [
    {
     "data": {
      "text/plain": [
       "(0.7448076923076924, 0.38473894521800867, 0.5337000000000001)"
      ]
     },
     "execution_count": 117,
     "metadata": {},
     "output_type": "execute_result"
    }
   ],
   "source": [
    "np.mean(accs), np.mean(precs), np.mean(recs)"
   ]
  },
  {
   "cell_type": "markdown",
   "metadata": {},
   "source": [
    "# save"
   ]
  },
  {
   "cell_type": "code",
   "execution_count": 1,
   "metadata": {},
   "outputs": [],
   "source": [
    "import dill"
   ]
  },
  {
   "cell_type": "code",
   "execution_count": 124,
   "metadata": {},
   "outputs": [],
   "source": [
    "with open(\"rf.obj\",\"wb\") as f:\n",
    "    dill.dump(rf0,f)"
   ]
  },
  {
   "cell_type": "code",
   "execution_count": 2,
   "metadata": {},
   "outputs": [],
   "source": [
    "model = dill.load(open(\"rf.obj\",\"rb\"))"
   ]
  },
  {
   "cell_type": "code",
   "execution_count": 3,
   "metadata": {},
   "outputs": [
    {
     "data": {
      "text/plain": [
       "RandomForestClassifier()"
      ]
     },
     "execution_count": 3,
     "metadata": {},
     "output_type": "execute_result"
    }
   ],
   "source": [
    "model"
   ]
  },
  {
   "cell_type": "code",
   "execution_count": 13,
   "metadata": {},
   "outputs": [],
   "source": [
    "# state is array of length 208 made from flattened 4x52 array where \n",
    "# row 0 is past discards (cards opponent discarded)\n",
    "# row 1 is known cards in opponent's hand (picked up by opponent and not discarded)\n",
    "# row 2 is past faceUpCards not picked up by opponent\n",
    "# row 3 is your own hand\n",
    "def predict_opponent_hand(rf, state):\n",
    "    probs = rf.predict_proba([state])\n",
    "    return np.array(probs)[:,:,1][:,0]"
   ]
  },
  {
   "cell_type": "code",
   "execution_count": 25,
   "metadata": {},
   "outputs": [],
   "source": [
    "def predict_cards_t(hand_probs, t):\n",
    "    return np.array([roundt(p, t) for p in hand_probs])"
   ]
  },
  {
   "cell_type": "code",
   "execution_count": 29,
   "metadata": {},
   "outputs": [],
   "source": [
    "def predict_cards_max(hand_probs):\n",
    "    inds = hand_probs.argsort()[-10:][::-1]\n",
    "    ret = np.zeros((52))\n",
    "    ret[inds] = 1\n",
    "    return ret"
   ]
  },
  {
   "cell_type": "code",
   "execution_count": 22,
   "metadata": {},
   "outputs": [
    {
     "data": {
      "text/plain": [
       "(4, 52)"
      ]
     },
     "execution_count": 22,
     "metadata": {},
     "output_type": "execute_result"
    }
   ],
   "source": [
    "states[100000].shape"
   ]
  },
  {
   "cell_type": "code",
   "execution_count": 14,
   "metadata": {},
   "outputs": [
    {
     "data": {
      "text/plain": [
       "array([0.03, 0.75, 0.8 , 0.09, 0.09, 0.27, 0.04, 0.06, 0.07, 0.03, 0.04,\n",
       "       0.03, 0.04, 0.8 , 0.58, 0.09, 0.78, 0.1 , 0.02, 0.08, 0.8 , 0.77,\n",
       "       0.73, 0.02, 0.04, 0.05, 0.08, 0.05, 0.1 , 0.76, 0.1 , 0.08, 0.03,\n",
       "       0.03, 0.06, 0.01, 0.05, 0.05, 0.02, 0.12, 0.78, 0.03, 0.04, 0.04,\n",
       "       0.08, 0.02, 0.11, 0.07, 0.03, 0.02, 0.01, 0.03])"
      ]
     },
     "execution_count": 14,
     "metadata": {},
     "output_type": "execute_result"
    }
   ],
   "source": [
    "predict_opponent_hand(model, states2d[100000])"
   ]
  },
  {
   "cell_type": "code",
   "execution_count": 26,
   "metadata": {},
   "outputs": [
    {
     "data": {
      "text/plain": [
       "array([0, 1, 1, 0, 0, 0, 0, 0, 0, 0, 0, 0, 0, 1, 1, 0, 1, 0, 0, 0, 1, 1,\n",
       "       1, 0, 0, 0, 0, 0, 0, 1, 0, 0, 0, 0, 0, 0, 0, 0, 0, 0, 1, 0, 0, 0,\n",
       "       0, 0, 0, 0, 0, 0, 0, 0])"
      ]
     },
     "execution_count": 26,
     "metadata": {},
     "output_type": "execute_result"
    }
   ],
   "source": [
    "predict_cards_t(predict_opponent_hand(model, states2d[100000]), 0.3)"
   ]
  },
  {
   "cell_type": "code",
   "execution_count": 30,
   "metadata": {},
   "outputs": [
    {
     "data": {
      "text/plain": [
       "array([0., 1., 1., 0., 0., 0., 0., 0., 0., 0., 0., 0., 0., 1., 1., 0., 1.,\n",
       "       0., 0., 0., 1., 1., 1., 0., 0., 0., 0., 0., 0., 1., 0., 0., 0., 0.,\n",
       "       0., 0., 0., 0., 0., 0., 1., 0., 0., 0., 0., 0., 0., 0., 0., 0., 0.,\n",
       "       0.])"
      ]
     },
     "execution_count": 30,
     "metadata": {},
     "output_type": "execute_result"
    }
   ],
   "source": [
    "predict_cards_max(predict_opponent_hand(model, states2d[100000]))"
   ]
  },
  {
   "cell_type": "code",
   "execution_count": null,
   "metadata": {},
   "outputs": [],
   "source": []
  }
 ],
 "metadata": {
  "kernelspec": {
   "display_name": "Python 3",
   "language": "python",
   "name": "python3"
  },
  "language_info": {
   "codemirror_mode": {
    "name": "ipython",
    "version": 3
   },
   "file_extension": ".py",
   "mimetype": "text/x-python",
   "name": "python",
   "nbconvert_exporter": "python",
   "pygments_lexer": "ipython3",
   "version": "3.7.8"
  }
 },
 "nbformat": 4,
 "nbformat_minor": 2
}
