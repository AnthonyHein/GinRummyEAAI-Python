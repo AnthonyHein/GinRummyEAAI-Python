{
 "cells": [
  {
   "cell_type": "code",
   "execution_count": 1,
   "metadata": {},
   "outputs": [],
   "source": [
    "import numpy as np"
   ]
  },
  {
   "cell_type": "code",
   "execution_count": 2,
   "metadata": {},
   "outputs": [],
   "source": [
    "import dill"
   ]
  },
  {
   "cell_type": "code",
   "execution_count": 3,
   "metadata": {},
   "outputs": [],
   "source": [
    "from sklearn.ensemble import RandomForestClassifier"
   ]
  },
  {
   "cell_type": "code",
   "execution_count": 4,
   "metadata": {},
   "outputs": [],
   "source": [
    "from sklearn.metrics import confusion_matrix"
   ]
  },
  {
   "cell_type": "code",
   "execution_count": 5,
   "metadata": {},
   "outputs": [],
   "source": [
    "from random import sample"
   ]
  },
  {
   "cell_type": "code",
   "execution_count": 6,
   "metadata": {},
   "outputs": [],
   "source": [
    "def predict_hand(probs, t):\n",
    "    return np.array([roundt(a[0][1], t) for a in probs])"
   ]
  },
  {
   "cell_type": "code",
   "execution_count": 7,
   "metadata": {},
   "outputs": [],
   "source": [
    "def roundt(x, t):\n",
    "    return 1 if x > t else 0"
   ]
  },
  {
   "cell_type": "code",
   "execution_count": 8,
   "metadata": {},
   "outputs": [],
   "source": [
    "def get_metrics(model, X, Y, t):\n",
    "    all_probs = model.predict_proba(X)\n",
    "    accs, precs, recs = [], [], []\n",
    "    for i,y in enumerate(Y):\n",
    "        probs = np.array(all_probs)[:,:,1][:,i]\n",
    "        preds = [roundt(p, t) for p in probs]\n",
    "        tn, fp, fn, tp = confusion_matrix(y, preds).ravel()\n",
    "        acc, prec, rec = (tp+tn)/(tn+fp+fn+tp), tp/(tp+fp), tp/(tp+fn)\n",
    "        accs.append(acc)\n",
    "        precs.append(prec)\n",
    "        recs.append(rec)\n",
    "    return f\"acc: {np.mean(accs):.4f}, prec: {np.mean(precs):.4f}, rec: {np.mean(recs):.4f}, sds:  {np.std(accs):.4f}, {np.std(precs):.4f}, {np.std(recs):.4f}\"\n",
    "    "
   ]
  },
  {
   "cell_type": "code",
   "execution_count": 9,
   "metadata": {},
   "outputs": [],
   "source": [
    "def dill_save(model, file_name):\n",
    "    with open(file_name, \"wb\") as f:\n",
    "        dill.dump(model, f)\n",
    "def dill_load(file_name):\n",
    "    return dill.load(open(file_name, \"rb\"))"
   ]
  },
  {
   "cell_type": "code",
   "execution_count": 10,
   "metadata": {},
   "outputs": [],
   "source": [
    "states = np.load('states2.npy')\n",
    "hands = np.load('hands.npy')"
   ]
  },
  {
   "cell_type": "code",
   "execution_count": 11,
   "metadata": {},
   "outputs": [],
   "source": [
    "states2d = states.reshape(2571176, 4*52)"
   ]
  },
  {
   "cell_type": "code",
   "execution_count": 12,
   "metadata": {},
   "outputs": [
    {
     "data": {
      "text/plain": [
       "(2571176, 4, 52)"
      ]
     },
     "execution_count": 12,
     "metadata": {},
     "output_type": "execute_result"
    }
   ],
   "source": [
    "states.shape"
   ]
  },
  {
   "cell_type": "code",
   "execution_count": 14,
   "metadata": {},
   "outputs": [],
   "source": [
    "states3 = np.zeros((2571176, 3, 52))"
   ]
  },
  {
   "cell_type": "code",
   "execution_count": 15,
   "metadata": {},
   "outputs": [],
   "source": [
    "states3[:,0,:] = states[:,0,:] + states[:,2,:]\n",
    "states3[:,1,:] = states[:,1,:]\n",
    "states3[:,2,:] = states[:,3,:]\n",
    "states32d = states3.reshape(2571176, 3*52)"
   ]
  },
  {
   "cell_type": "code",
   "execution_count": 16,
   "metadata": {},
   "outputs": [],
   "source": [
    "sum_states2d = np.sum(states32d, axis=1)"
   ]
  },
  {
   "cell_type": "code",
   "execution_count": 17,
   "metadata": {},
   "outputs": [
    {
     "data": {
      "text/plain": [
       "(44.0,\n",
       " 12.0,\n",
       " 18.437320510147885,\n",
       " 18.0,\n",
       " array([12., 12., 14., 14., 16., 16., 18., 18., 20., 20., 22., 22., 24.,\n",
       "        12., 12., 14., 14., 16., 16., 18., 18., 20., 20., 22., 22., 24.,\n",
       "        12., 12., 14., 14., 16., 16., 18., 18., 20., 20., 22., 22., 12.,\n",
       "        12., 14., 14., 16., 16., 18., 18., 20., 20., 22., 22., 24., 24.,\n",
       "        12., 12., 14., 14., 16., 16., 18., 18., 20., 20., 22., 12., 12.,\n",
       "        14., 14., 16., 16., 18., 18., 20., 20., 22., 22., 12., 12., 14.,\n",
       "        14., 16.]))"
      ]
     },
     "execution_count": 17,
     "metadata": {},
     "output_type": "execute_result"
    }
   ],
   "source": [
    "max(sum_states2d), min(sum_states2d), np.mean(sum_states2d), np.median(sum_states2d), sum_states2d[:80]"
   ]
  },
  {
   "cell_type": "markdown",
   "metadata": {},
   "source": [
    "# basic"
   ]
  },
  {
   "cell_type": "code",
   "execution_count": 62,
   "metadata": {},
   "outputs": [],
   "source": [
    "rf0 = RandomForestClassifier()"
   ]
  },
  {
   "cell_type": "code",
   "execution_count": 40,
   "metadata": {},
   "outputs": [
    {
     "data": {
      "text/plain": [
       "RandomForestClassifier()"
      ]
     },
     "execution_count": 40,
     "metadata": {},
     "output_type": "execute_result"
    }
   ],
   "source": [
    "rf10K = RandomForestClassifier()\n",
    "rf10K.fit(states2d[:10000], hands[:10000])"
   ]
  },
  {
   "cell_type": "code",
   "execution_count": 63,
   "metadata": {
    "scrolled": true
   },
   "outputs": [
    {
     "data": {
      "text/plain": [
       "RandomForestClassifier()"
      ]
     },
     "execution_count": 63,
     "metadata": {},
     "output_type": "execute_result"
    }
   ],
   "source": [
    "rf0.fit(states2d[:100000], hands[:100000])"
   ]
  },
  {
   "cell_type": "code",
   "execution_count": 90,
   "metadata": {},
   "outputs": [
    {
     "data": {
      "text/plain": [
       "[array([[0.97, 0.03]]), array([[0.25, 0.75]]), array([[0.2, 0.8]])]"
      ]
     },
     "execution_count": 90,
     "metadata": {},
     "output_type": "execute_result"
    }
   ],
   "source": [
    "rf0.predict_proba(states2d[100000:100001])[:3]"
   ]
  },
  {
   "cell_type": "code",
   "execution_count": 99,
   "metadata": {},
   "outputs": [
    {
     "data": {
      "text/plain": [
       "array([0.03, 0.75, 0.8 , 0.09, 0.09, 0.27, 0.04, 0.06, 0.07, 0.03, 0.04,\n",
       "       0.03, 0.04, 0.8 , 0.58, 0.09, 0.78, 0.1 , 0.02, 0.08, 0.8 , 0.77,\n",
       "       0.73, 0.02, 0.04, 0.05, 0.08, 0.05, 0.1 , 0.76, 0.1 , 0.08, 0.03,\n",
       "       0.03, 0.06, 0.01, 0.05, 0.05, 0.02, 0.12, 0.78, 0.03, 0.04, 0.04,\n",
       "       0.08, 0.02, 0.11, 0.07, 0.03, 0.02, 0.01, 0.03])"
      ]
     },
     "execution_count": 99,
     "metadata": {},
     "output_type": "execute_result"
    }
   ],
   "source": [
    "np.array(rf0.predict_proba(states2d[100000:100002]))[:,:,1][:,0]"
   ]
  },
  {
   "cell_type": "code",
   "execution_count": null,
   "metadata": {
    "scrolled": true
   },
   "outputs": [],
   "source": [
    "rf0.predict_proba(states2d[100000:100002])\n",
    "# [array([[0.97, 0.03],\n",
    "#         [0.23, 0.77]]), array([[0.25, 0.75],\n",
    "#         [0.96, 0.04]]), array([[0.2 , 0.8 ],\n",
    "#         [0.98, 0.02]]), array([[0.91, 0.09],\n",
    "#         [0.89, 0.11]]), array([[0.91, 0.09],"
   ]
  },
  {
   "cell_type": "code",
   "execution_count": 71,
   "metadata": {},
   "outputs": [
    {
     "data": {
      "text/plain": [
       "array([1, 0, 0, 0, 0, 0, 1, 0, 0, 0, 0, 0, 0, 0, 0, 0, 0, 0, 0, 1, 0, 0,\n",
       "       0, 0, 0, 0, 0, 0, 0, 0, 0, 1, 1, 1, 1, 0, 0, 0, 0, 0, 0, 1, 1, 1,\n",
       "       0, 0, 0, 0, 0, 0, 0, 0])"
      ]
     },
     "execution_count": 71,
     "metadata": {},
     "output_type": "execute_result"
    }
   ],
   "source": [
    "predict_hand(rf0.predict_proba(states2d[100001:100002]), 0.3)"
   ]
  },
  {
   "cell_type": "code",
   "execution_count": 84,
   "metadata": {},
   "outputs": [
    {
     "data": {
      "text/plain": [
       "array([[ 1.,  1., -1.,  0.,  0.,  0.,  0.,  0.,  0.,  0.,  0.,  0.,  0.,\n",
       "        -1.,  0.,  0.,  1.,  1.,  0., -1.,  0.,  0.,  0.,  0.,  0.,  0.,\n",
       "        -1.,  1., -1.,  0.,  0.,  0.,  1.,  0.,  0.,  0.,  0.,  0.,  0.,\n",
       "         0.,  0.,  0.,  1., -1.,  0.,  1.,  0.,  0.,  0.,  0.,  0.,  0.]])"
      ]
     },
     "execution_count": 84,
     "metadata": {},
     "output_type": "execute_result"
    }
   ],
   "source": [
    "hands[1000000:1000001]-predict_hand(rf0.predict_proba(states2d[1000000:1000001]), 0.3)"
   ]
  },
  {
   "cell_type": "code",
   "execution_count": 49,
   "metadata": {
    "scrolled": true
   },
   "outputs": [
    {
     "data": {
      "text/plain": [
       "array([0, 1, 0, 1, 0, 0, 0, 0, 0, 0, 0, 0, 0, 1, 1, 0, 1, 1, 0, 0, 0, 0,\n",
       "       0, 0, 0, 0, 1, 1, 0, 1, 1, 0, 0, 1, 0, 0, 0, 0, 0, 0, 1, 1, 0, 1,\n",
       "       0, 0, 0, 0, 0, 0, 0, 0])"
      ]
     },
     "execution_count": 49,
     "metadata": {},
     "output_type": "execute_result"
    }
   ],
   "source": [
    "np.array([roundt(a[0][1], 0.3) for a in rf0.predict_proba(tempX[10000:10001])])"
   ]
  },
  {
   "cell_type": "code",
   "execution_count": 52,
   "metadata": {},
   "outputs": [
    {
     "data": {
      "text/plain": [
       "array([[33,  9],\n",
       "       [ 5,  5]])"
      ]
     },
     "execution_count": 52,
     "metadata": {},
     "output_type": "execute_result"
    }
   ],
   "source": [
    "confusion_matrix(tempY[10000], np.array([roundt(a[0][1], 0.3) for a in rf0.predict_proba(tempX[10000:10001])]))"
   ]
  },
  {
   "cell_type": "code",
   "execution_count": 55,
   "metadata": {},
   "outputs": [
    {
     "data": {
      "text/plain": [
       "array([[37,  5],\n",
       "       [ 3,  7]])"
      ]
     },
     "execution_count": 55,
     "metadata": {},
     "output_type": "execute_result"
    }
   ],
   "source": [
    "confusion_matrix(tempY[10001], np.array([roundt(a[0][1], 0.3) for a in rf0.predict_proba(tempX[10001:10002])]))"
   ]
  },
  {
   "cell_type": "code",
   "execution_count": 57,
   "metadata": {},
   "outputs": [
    {
     "data": {
      "text/plain": [
       "array([[31, 11],\n",
       "       [ 2,  8]])"
      ]
     },
     "execution_count": 57,
     "metadata": {},
     "output_type": "execute_result"
    }
   ],
   "source": [
    "confusion_matrix(tempY[10002], np.array([roundt(a[0][1], 0.25) for a in rf0.predict_proba(tempX[10002:10003])]))"
   ]
  },
  {
   "cell_type": "code",
   "execution_count": 114,
   "metadata": {},
   "outputs": [],
   "source": [
    "accs, precs, recs = get_metrics(rf0, states2d[100000:101000], hands[100000:101000], 0.3)"
   ]
  },
  {
   "cell_type": "code",
   "execution_count": 115,
   "metadata": {
    "scrolled": true
   },
   "outputs": [
    {
     "data": {
      "text/plain": [
       "(0.7914038461538462, 0.4351283355533355, 0.2911)"
      ]
     },
     "execution_count": 115,
     "metadata": {},
     "output_type": "execute_result"
    }
   ],
   "source": [
    "np.mean(accs), np.mean(precs), np.mean(recs)"
   ]
  },
  {
   "cell_type": "code",
   "execution_count": 116,
   "metadata": {},
   "outputs": [],
   "source": [
    "accs, precs, recs = get_metrics(rf0, states2d[100000:101000], hands[100000:101000], 0.25)"
   ]
  },
  {
   "cell_type": "code",
   "execution_count": 117,
   "metadata": {},
   "outputs": [
    {
     "data": {
      "text/plain": [
       "(0.7448076923076924, 0.38473894521800867, 0.5337000000000001)"
      ]
     },
     "execution_count": 117,
     "metadata": {},
     "output_type": "execute_result"
    }
   ],
   "source": [
    "np.mean(accs), np.mean(precs), np.mean(recs)"
   ]
  },
  {
   "cell_type": "code",
   "execution_count": 80,
   "metadata": {},
   "outputs": [],
   "source": [
    "accs, precs, recs = get_metrics(model, states2d[200000:201000], hands[200000:201000], 0.25)"
   ]
  },
  {
   "cell_type": "code",
   "execution_count": 81,
   "metadata": {},
   "outputs": [
    {
     "data": {
      "text/plain": [
       "(0.7293846153846154, 0.30772695291035074, 0.3482)"
      ]
     },
     "execution_count": 81,
     "metadata": {},
     "output_type": "execute_result"
    }
   ],
   "source": [
    "np.mean(accs), np.mean(precs), np.mean(recs)"
   ]
  },
  {
   "cell_type": "code",
   "execution_count": 82,
   "metadata": {},
   "outputs": [],
   "source": [
    "accs, precs, recs = get_metrics(model, states2d[300000:301000], hands[300000:301000], 0.25)"
   ]
  },
  {
   "cell_type": "code",
   "execution_count": 83,
   "metadata": {},
   "outputs": [
    {
     "data": {
      "text/plain": [
       "(0.744326923076923, 0.3847426527419949, 0.5647000000000001)"
      ]
     },
     "execution_count": 83,
     "metadata": {},
     "output_type": "execute_result"
    }
   ],
   "source": [
    "np.mean(accs), np.mean(precs), np.mean(recs)"
   ]
  },
  {
   "cell_type": "code",
   "execution_count": 46,
   "metadata": {},
   "outputs": [],
   "source": [
    "accs, precs, recs = get_metrics(rf10K, states2d[100000:101000], hands[100000:101000], 0.25)"
   ]
  },
  {
   "cell_type": "code",
   "execution_count": 47,
   "metadata": {},
   "outputs": [
    {
     "data": {
      "text/plain": [
       "(0.7383461538461538, 0.35371525463270814, 0.4561)"
      ]
     },
     "execution_count": 47,
     "metadata": {},
     "output_type": "execute_result"
    }
   ],
   "source": [
    "np.mean(accs), np.mean(precs), np.mean(recs)"
   ]
  },
  {
   "cell_type": "markdown",
   "metadata": {},
   "source": [
    "# save"
   ]
  },
  {
   "cell_type": "code",
   "execution_count": 124,
   "metadata": {},
   "outputs": [],
   "source": [
    "with open(\"rf.obj\",\"wb\") as f:\n",
    "    dill.dump(rf0,f)"
   ]
  },
  {
   "cell_type": "code",
   "execution_count": 8,
   "metadata": {},
   "outputs": [],
   "source": [
    "rf = dill.load(open(\"rf.obj\",\"rb\"))"
   ]
  },
  {
   "cell_type": "markdown",
   "metadata": {},
   "source": [
    "# predict hand methods"
   ]
  },
  {
   "cell_type": "code",
   "execution_count": 18,
   "metadata": {},
   "outputs": [],
   "source": [
    "# state is array of length 208 made from flattened 4x52 array where \n",
    "# row 0 is past discards (cards opponent discarded)\n",
    "# row 1 is known cards in opponent's hand (picked up by opponent and not discarded)\n",
    "# row 2 is past faceUpCards not picked up by opponent\n",
    "# row 3 is your own hand\n",
    "def predict_opponent_hand(rf, state):\n",
    "    probs = rf.predict_proba([state])\n",
    "    return np.array(probs)[:,:,1][:,0]"
   ]
  },
  {
   "cell_type": "code",
   "execution_count": 19,
   "metadata": {},
   "outputs": [],
   "source": [
    "def predict_cards_t(hand_probs, t):\n",
    "    return np.array([roundt(p, t) for p in hand_probs])"
   ]
  },
  {
   "cell_type": "code",
   "execution_count": 37,
   "metadata": {},
   "outputs": [],
   "source": [
    "def predict_cards_max(hand_probs):\n",
    "    inds = hand_probs.argsort()[-10:][::-1]\n",
    "    ret = np.zeros((52))\n",
    "    ret[inds] = 1\n",
    "    return ret.astype(int)"
   ]
  },
  {
   "cell_type": "code",
   "execution_count": 36,
   "metadata": {},
   "outputs": [
    {
     "data": {
      "text/plain": [
       "(208,)"
      ]
     },
     "execution_count": 36,
     "metadata": {},
     "output_type": "execute_result"
    }
   ],
   "source": [
    "states2d[100000].shape"
   ]
  },
  {
   "cell_type": "code",
   "execution_count": 14,
   "metadata": {},
   "outputs": [
    {
     "data": {
      "text/plain": [
       "array([0.03, 0.75, 0.8 , 0.09, 0.09, 0.27, 0.04, 0.06, 0.07, 0.03, 0.04,\n",
       "       0.03, 0.04, 0.8 , 0.58, 0.09, 0.78, 0.1 , 0.02, 0.08, 0.8 , 0.77,\n",
       "       0.73, 0.02, 0.04, 0.05, 0.08, 0.05, 0.1 , 0.76, 0.1 , 0.08, 0.03,\n",
       "       0.03, 0.06, 0.01, 0.05, 0.05, 0.02, 0.12, 0.78, 0.03, 0.04, 0.04,\n",
       "       0.08, 0.02, 0.11, 0.07, 0.03, 0.02, 0.01, 0.03])"
      ]
     },
     "execution_count": 14,
     "metadata": {},
     "output_type": "execute_result"
    }
   ],
   "source": [
    "predict_opponent_hand(model, states2d[100000])"
   ]
  },
  {
   "cell_type": "code",
   "execution_count": 26,
   "metadata": {},
   "outputs": [
    {
     "data": {
      "text/plain": [
       "array([0, 1, 1, 0, 0, 0, 0, 0, 0, 0, 0, 0, 0, 1, 1, 0, 1, 0, 0, 0, 1, 1,\n",
       "       1, 0, 0, 0, 0, 0, 0, 1, 0, 0, 0, 0, 0, 0, 0, 0, 0, 0, 1, 0, 0, 0,\n",
       "       0, 0, 0, 0, 0, 0, 0, 0])"
      ]
     },
     "execution_count": 26,
     "metadata": {},
     "output_type": "execute_result"
    }
   ],
   "source": [
    "predict_cards_t(predict_opponent_hand(model, states2d[100000]), 0.3)"
   ]
  },
  {
   "cell_type": "code",
   "execution_count": 38,
   "metadata": {},
   "outputs": [
    {
     "data": {
      "text/plain": [
       "array([0, 1, 1, 0, 0, 0, 0, 0, 0, 0, 0, 0, 0, 1, 1, 0, 1, 0, 0, 0, 1, 1,\n",
       "       1, 0, 0, 0, 0, 0, 0, 1, 0, 0, 0, 0, 0, 0, 0, 0, 0, 0, 1, 0, 0, 0,\n",
       "       0, 0, 0, 0, 0, 0, 0, 0])"
      ]
     },
     "execution_count": 38,
     "metadata": {},
     "output_type": "execute_result"
    }
   ],
   "source": [
    "predict_cards_max(predict_opponent_hand(model, states2d[100000]))"
   ]
  },
  {
   "cell_type": "markdown",
   "metadata": {},
   "source": [
    "# compare to random"
   ]
  },
  {
   "cell_type": "code",
   "execution_count": 26,
   "metadata": {},
   "outputs": [],
   "source": [
    "from random import sample"
   ]
  },
  {
   "cell_type": "code",
   "execution_count": 27,
   "metadata": {},
   "outputs": [],
   "source": [
    "def predict_random(X):\n",
    "    known_opponent = X[1]\n",
    "    known = X[0] + X[1] + X[2] + X[3]\n",
    "    n_guess = 10 - sum(X[1])\n",
    "    inds = np.where(known == 0)\n",
    "    known_opponent[sample(list(inds[0]), int(n_guess))] = 1\n",
    "    return known_opponent"
   ]
  },
  {
   "cell_type": "code",
   "execution_count": 61,
   "metadata": {},
   "outputs": [
    {
     "data": {
      "text/plain": [
       "array([0., 0., 0., 0., 0., 0., 0., 0., 0., 0., 0., 0., 0., 0., 0., 0., 0.,\n",
       "       0., 0., 0., 0., 1., 0., 0., 0., 0., 0., 0., 0., 0., 0., 0., 0., 0.,\n",
       "       0., 0., 0., 0., 0., 0., 0., 0., 0., 0., 0., 0., 0., 0., 0., 0., 0.,\n",
       "       0.])"
      ]
     },
     "execution_count": 61,
     "metadata": {},
     "output_type": "execute_result"
    }
   ],
   "source": [
    "states[100000][1]"
   ]
  },
  {
   "cell_type": "code",
   "execution_count": 74,
   "metadata": {},
   "outputs": [
    {
     "name": "stdout",
     "output_type": "stream",
     "text": [
      "[ 1  2  3  4  7  8 10 13 14 15 16 17 18 20 22 23 24 25 26 27 28 29 30 35\n",
      " 36 37 38 39 40 45 47 51] 9\n"
     ]
    },
    {
     "data": {
      "text/plain": [
       "array([0., 0., 0., 0., 0., 0., 0., 0., 1., 0., 0., 0., 0., 0., 0., 0., 0.,\n",
       "       0., 0., 0., 1., 1., 0., 0., 1., 0., 1., 0., 0., 1., 0., 0., 0., 0.,\n",
       "       0., 1., 0., 0., 1., 0., 1., 0., 0., 0., 0., 1., 0., 0., 0., 0., 0.,\n",
       "       0.])"
      ]
     },
     "execution_count": 74,
     "metadata": {},
     "output_type": "execute_result"
    }
   ],
   "source": [
    "predict_random(states[100000])"
   ]
  },
  {
   "cell_type": "code",
   "execution_count": 25,
   "metadata": {},
   "outputs": [],
   "source": [
    "def get_metrics_rand(X, Y):\n",
    "    accs, precs, recs = [], [], []\n",
    "    for i,y in enumerate(Y):\n",
    "        preds = predict_random(X[i])\n",
    "        tn, fp, fn, tp = confusion_matrix(y, preds).ravel()\n",
    "        acc, prec, rec = (tp+tn)/(tn+fp+fn+tp), tp/(tp+fp), tp/(tp+fn)\n",
    "        accs.append(acc)\n",
    "        precs.append(prec)\n",
    "        recs.append(rec)\n",
    "    return np.mean(accs), np.mean(precs), np.mean(recs)"
   ]
  },
  {
   "cell_type": "code",
   "execution_count": 77,
   "metadata": {},
   "outputs": [
    {
     "data": {
      "text/plain": [
       "(0.7439230769230769, 0.3342, 0.3342)"
      ]
     },
     "execution_count": 77,
     "metadata": {},
     "output_type": "execute_result"
    }
   ],
   "source": [
    "get_metrics_rand(states[100000:101000], hands[100000:101000])"
   ]
  },
  {
   "cell_type": "code",
   "execution_count": 78,
   "metadata": {},
   "outputs": [
    {
     "data": {
      "text/plain": [
       "(0.7397307692307693, 0.3233, 0.3233)"
      ]
     },
     "execution_count": 78,
     "metadata": {},
     "output_type": "execute_result"
    }
   ],
   "source": [
    "get_metrics_rand(states[200000:201000], hands[200000:201000])"
   ]
  },
  {
   "cell_type": "code",
   "execution_count": 87,
   "metadata": {},
   "outputs": [
    {
     "data": {
      "text/plain": [
       "(0.7403076923076922, 0.32480000000000003, 0.32480000000000003)"
      ]
     },
     "execution_count": 87,
     "metadata": {},
     "output_type": "execute_result"
    }
   ],
   "source": [
    "get_metrics_rand(states[300000:301000], hands[300000:301000])"
   ]
  },
  {
   "cell_type": "markdown",
   "metadata": {},
   "source": [
    "# sample_weight"
   ]
  },
  {
   "cell_type": "code",
   "execution_count": 94,
   "metadata": {},
   "outputs": [
    {
     "data": {
      "text/plain": [
       "array([12., 12.])"
      ]
     },
     "execution_count": 94,
     "metadata": {},
     "output_type": "execute_result"
    }
   ],
   "source": [
    "states2d[:2].sum(axis=1)"
   ]
  },
  {
   "cell_type": "code",
   "execution_count": 95,
   "metadata": {},
   "outputs": [
    {
     "data": {
      "text/plain": [
       "RandomForestClassifier()"
      ]
     },
     "execution_count": 95,
     "metadata": {},
     "output_type": "execute_result"
    }
   ],
   "source": [
    "rfw = RandomForestClassifier()\n",
    "rfw.fit(states32d[:100000], hands[:100000], sample_weight=states32d[:100000].sum(axis=1))"
   ]
  },
  {
   "cell_type": "code",
   "execution_count": 97,
   "metadata": {},
   "outputs": [
    {
     "data": {
      "text/plain": [
       "(0.7351346153846154, 0.3255840747101196, 0.37429999999999997)"
      ]
     },
     "execution_count": 97,
     "metadata": {},
     "output_type": "execute_result"
    }
   ],
   "source": [
    "get_metrics(rfw, states2d[100000:101000], hands[100000:101000], 0.25)"
   ]
  },
  {
   "cell_type": "code",
   "execution_count": 99,
   "metadata": {},
   "outputs": [
    {
     "data": {
      "text/plain": [
       "(0.7325, 0.31833686934410615, 0.37089999999999995)"
      ]
     },
     "execution_count": 99,
     "metadata": {},
     "output_type": "execute_result"
    }
   ],
   "source": [
    "get_metrics(rfw, states2d[200000:201000], hands[200000:201000], 0.25)"
   ]
  },
  {
   "cell_type": "code",
   "execution_count": 101,
   "metadata": {},
   "outputs": [
    {
     "data": {
      "text/plain": [
       "(0.7333461538461538, 0.32423115121033075, 0.3871)"
      ]
     },
     "execution_count": 101,
     "metadata": {},
     "output_type": "execute_result"
    }
   ],
   "source": [
    "get_metrics(rfw, states2d[300000:301000], hands[300000:301000], 0.25)"
   ]
  },
  {
   "cell_type": "markdown",
   "metadata": {},
   "source": [
    "# state 3x52"
   ]
  },
  {
   "cell_type": "code",
   "execution_count": 17,
   "metadata": {},
   "outputs": [
    {
     "data": {
      "text/plain": [
       "RandomForestClassifier()"
      ]
     },
     "execution_count": 17,
     "metadata": {},
     "output_type": "execute_result"
    }
   ],
   "source": [
    "rf3 = RandomForestClassifier()\n",
    "rf3.fit(states32d[:100000], hands[:100000])"
   ]
  },
  {
   "cell_type": "code",
   "execution_count": 18,
   "metadata": {},
   "outputs": [
    {
     "data": {
      "text/plain": [
       "(0.7433653846153846, 0.38316873654381395, 0.5579)"
      ]
     },
     "execution_count": 18,
     "metadata": {},
     "output_type": "execute_result"
    }
   ],
   "source": [
    "get_metrics(rf3, states32d[100000:101000], hands[100000:101000], 0.25)"
   ]
  },
  {
   "cell_type": "code",
   "execution_count": 21,
   "metadata": {},
   "outputs": [],
   "source": [
    "with open(\"rf3.obj\",\"wb\") as f:\n",
    "    dill.dump(rf3,f)"
   ]
  },
  {
   "cell_type": "code",
   "execution_count": 82,
   "metadata": {},
   "outputs": [],
   "source": [
    "rf3 = dill.load(open(\"rf3.obj\",\"rb\"))"
   ]
  },
  {
   "cell_type": "code",
   "execution_count": 107,
   "metadata": {},
   "outputs": [
    {
     "data": {
      "text/plain": [
       "('acc: 0.7434, prec: 0.3832, rec: 0.5579, sds:  0.0668, 0.1232, 0.2135',\n",
       " 'acc: 0.7377, prec: 0.3728, rec: 0.5572, sds:  0.0626, 0.1174, 0.2129',\n",
       " 'acc: 0.7465, prec: 0.3893, rec: 0.5882, sds:  0.0639, 0.1212, 0.2217')"
      ]
     },
     "execution_count": 107,
     "metadata": {},
     "output_type": "execute_result"
    }
   ],
   "source": [
    "get_metrics(rf3, states32d[100000:101000], hands[100000:101000], 0.25), \\\n",
    "get_metrics(rf3, states32d[200000:201000], hands[200000:201000], 0.25), \\\n",
    "get_metrics(rf3, states32d[300000:301000], hands[300000:301000], 0.25)"
   ]
  },
  {
   "cell_type": "code",
   "execution_count": 92,
   "metadata": {},
   "outputs": [
    {
     "data": {
      "text/plain": [
       "array([0.32, 0.2 , 0.18, 0.35, 0.25, 0.19, 0.22, 0.22, 0.21, 0.12, 0.07,\n",
       "       0.14, 0.13, 0.16, 0.24, 0.08, 0.15, 0.3 , 0.19, 0.13, 0.3 , 0.2 ,\n",
       "       0.16, 0.28, 0.35, 0.21, 0.26, 0.2 , 0.32, 0.39, 0.17, 0.26, 0.15,\n",
       "       0.22, 0.14, 0.08, 0.1 , 0.16, 0.16, 0.1 , 0.27, 0.09, 0.36, 0.18,\n",
       "       0.23, 0.22, 0.12, 0.14, 0.03, 0.05, 0.11, 0.14])"
      ]
     },
     "execution_count": 92,
     "metadata": {},
     "output_type": "execute_result"
    }
   ],
   "source": [
    "predict_opponent_hand(rf3, states32d[100016])"
   ]
  },
  {
   "cell_type": "code",
   "execution_count": 91,
   "metadata": {},
   "outputs": [
    {
     "data": {
      "text/plain": [
       "18.0"
      ]
     },
     "execution_count": 91,
     "metadata": {},
     "output_type": "execute_result"
    }
   ],
   "source": [
    "sum(states32d[100016])"
   ]
  },
  {
   "cell_type": "code",
   "execution_count": 93,
   "metadata": {},
   "outputs": [
    {
     "data": {
      "text/plain": [
       "array([0., 1., 0., 0., 0., 0., 1., 0., 0., 0., 0., 0., 0., 0., 1., 0., 0.,\n",
       "       1., 1., 0., 0., 0., 0., 1., 1., 1., 0., 0., 0., 0., 0., 0., 0., 0.,\n",
       "       0., 0., 0., 0., 0., 0., 0., 0., 0., 0., 1., 1., 0., 0., 0., 0., 0.,\n",
       "       0.])"
      ]
     },
     "execution_count": 93,
     "metadata": {},
     "output_type": "execute_result"
    }
   ],
   "source": [
    "hands[100016]"
   ]
  },
  {
   "cell_type": "code",
   "execution_count": 22,
   "metadata": {},
   "outputs": [
    {
     "data": {
      "text/plain": [
       "RandomForestClassifier()"
      ]
     },
     "execution_count": 22,
     "metadata": {},
     "output_type": "execute_result"
    }
   ],
   "source": [
    "rf310K = RandomForestClassifier()\n",
    "rf310K.fit(states32d[:10000], hands[:10000])"
   ]
  },
  {
   "cell_type": "code",
   "execution_count": 23,
   "metadata": {},
   "outputs": [
    {
     "data": {
      "text/plain": [
       "(0.7369038461538462, 0.35614782810928325, 0.4717)"
      ]
     },
     "execution_count": 23,
     "metadata": {},
     "output_type": "execute_result"
    }
   ],
   "source": [
    "get_metrics(rf310K, states32d[100000:101000], hands[100000:101000], 0.25)"
   ]
  },
  {
   "cell_type": "markdown",
   "metadata": {},
   "source": [
    "# Different models"
   ]
  },
  {
   "cell_type": "code",
   "execution_count": null,
   "metadata": {},
   "outputs": [],
   "source": [
    "# KNN, ExtraTrees"
   ]
  },
  {
   "cell_type": "code",
   "execution_count": 1,
   "metadata": {},
   "outputs": [],
   "source": [
    "from sklearn.ensemble import ExtraTreesClassifier\n",
    "from sklearn.neighbors import KNeighborsClassifier\n",
    "from sklearn.neural_network import MLPClassifier"
   ]
  },
  {
   "cell_type": "code",
   "execution_count": 2,
   "metadata": {},
   "outputs": [],
   "source": [
    "et3 = ExtraTreesClassifier()"
   ]
  },
  {
   "cell_type": "code",
   "execution_count": 14,
   "metadata": {},
   "outputs": [
    {
     "data": {
      "text/plain": [
       "ExtraTreesClassifier()"
      ]
     },
     "execution_count": 14,
     "metadata": {},
     "output_type": "execute_result"
    }
   ],
   "source": [
    "et3.fit(states32d[:100000], hands[:100000])"
   ]
  },
  {
   "cell_type": "code",
   "execution_count": 15,
   "metadata": {},
   "outputs": [
    {
     "data": {
      "text/plain": [
       "(0.7413461538461538, 0.37895119526306087, 0.5532999999999999)"
      ]
     },
     "execution_count": 15,
     "metadata": {},
     "output_type": "execute_result"
    }
   ],
   "source": [
    "get_metrics(et3, states32d[100000:101000], hands[100000:101000], 0.25)"
   ]
  },
  {
   "cell_type": "code",
   "execution_count": 16,
   "metadata": {},
   "outputs": [
    {
     "data": {
      "text/plain": [
       "(0.7416730769230769, 0.38089193878446975, 0.5619000000000001)"
      ]
     },
     "execution_count": 16,
     "metadata": {},
     "output_type": "execute_result"
    }
   ],
   "source": [
    "get_metrics(et3, states32d[200000:201000], hands[200000:201000], 0.25)"
   ]
  },
  {
   "cell_type": "code",
   "execution_count": 17,
   "metadata": {},
   "outputs": [
    {
     "data": {
      "text/plain": [
       "(0.7432692307692308, 0.3847448814386508, 0.5821)"
      ]
     },
     "execution_count": 17,
     "metadata": {},
     "output_type": "execute_result"
    }
   ],
   "source": [
    "get_metrics(et3, states32d[300000:301000], hands[300000:301000], 0.25)"
   ]
  },
  {
   "cell_type": "code",
   "execution_count": 18,
   "metadata": {},
   "outputs": [
    {
     "data": {
      "text/plain": [
       "KNeighborsClassifier()"
      ]
     },
     "execution_count": 18,
     "metadata": {},
     "output_type": "execute_result"
    }
   ],
   "source": [
    "knn3 = KNeighborsClassifier()\n",
    "knn3.fit(states32d[:100000], hands[:100000])"
   ]
  },
  {
   "cell_type": "code",
   "execution_count": 19,
   "metadata": {},
   "outputs": [
    {
     "data": {
      "text/plain": [
       "(0.6908846153846153, 0.28159246576436975, 0.3926)"
      ]
     },
     "execution_count": 19,
     "metadata": {},
     "output_type": "execute_result"
    }
   ],
   "source": [
    "get_metrics(knn3, states32d[100000:101000], hands[100000:101000], 0.25)"
   ]
  },
  {
   "cell_type": "code",
   "execution_count": 20,
   "metadata": {},
   "outputs": [
    {
     "data": {
      "text/plain": [
       "(0.6910192307692307, 0.2809286130836828, 0.3891)"
      ]
     },
     "execution_count": 20,
     "metadata": {},
     "output_type": "execute_result"
    }
   ],
   "source": [
    "get_metrics(knn3, states32d[200000:201000], hands[200000:201000], 0.25)"
   ]
  },
  {
   "cell_type": "markdown",
   "metadata": {},
   "source": [
    "# Pruning Trees"
   ]
  },
  {
   "cell_type": "code",
   "execution_count": null,
   "metadata": {},
   "outputs": [],
   "source": [
    "# rf3\n",
    "# (0.7433653846153846, 0.38316873654381395, 0.5579)\n",
    "# (0.7377307692307693, 0.37279639612623355, 0.5572)\n",
    "# (0.7465192307692308, 0.3892681196049281, 0.5882000000000001)"
   ]
  },
  {
   "cell_type": "code",
   "execution_count": 12,
   "metadata": {},
   "outputs": [
    {
     "data": {
      "text/plain": [
       "RandomForestClassifier(ccp_alpha=0.01)"
      ]
     },
     "execution_count": 12,
     "metadata": {},
     "output_type": "execute_result"
    }
   ],
   "source": [
    "rf3p01 = RandomForestClassifier(ccp_alpha=.01)\n",
    "rf3p01.fit(states32d[:100000], hands[:100000])"
   ]
  },
  {
   "cell_type": "code",
   "execution_count": 17,
   "metadata": {},
   "outputs": [
    {
     "data": {
      "text/plain": [
       "(0.677576923076923, 0.2583571428571429, 0.3617)"
      ]
     },
     "execution_count": 17,
     "metadata": {},
     "output_type": "execute_result"
    }
   ],
   "source": [
    "get_metrics(rf3p01, states32d[100000:101000], hands[100000:101000], 0.26)"
   ]
  },
  {
   "cell_type": "code",
   "execution_count": 14,
   "metadata": {},
   "outputs": [
    {
     "data": {
      "text/plain": [
       "(0.6560384615384617, 0.2680588235294118, 0.4557)"
      ]
     },
     "execution_count": 14,
     "metadata": {},
     "output_type": "execute_result"
    }
   ],
   "source": [
    "get_metrics(rf3p01, states32d[200000:201000], hands[200000:201000], 0.25)"
   ]
  },
  {
   "cell_type": "code",
   "execution_count": 19,
   "metadata": {},
   "outputs": [
    {
     "data": {
      "text/plain": [
       "RandomForestClassifier(min_samples_split=4)"
      ]
     },
     "execution_count": 19,
     "metadata": {},
     "output_type": "execute_result"
    }
   ],
   "source": [
    "rf3p4 = RandomForestClassifier(min_samples_split=4)\n",
    "rf3p4.fit(states32d[:100000], hands[:100000])"
   ]
  },
  {
   "cell_type": "code",
   "execution_count": 22,
   "metadata": {},
   "outputs": [
    {
     "data": {
      "text/plain": [
       "(0.7412115384615384, 0.3811134008518515, 0.5574000000000001)"
      ]
     },
     "execution_count": 22,
     "metadata": {},
     "output_type": "execute_result"
    }
   ],
   "source": [
    "get_metrics(rf3p4, states32d[100000:101000], hands[100000:101000], 0.255)"
   ]
  },
  {
   "cell_type": "code",
   "execution_count": 23,
   "metadata": {},
   "outputs": [
    {
     "data": {
      "text/plain": [
       "(0.7395961538461538, 0.379672770366888, 0.5700999999999999)"
      ]
     },
     "execution_count": 23,
     "metadata": {},
     "output_type": "execute_result"
    }
   ],
   "source": [
    "get_metrics(rf3p4, states32d[200000:201000], hands[200000:201000], 0.255)"
   ]
  },
  {
   "cell_type": "code",
   "execution_count": 29,
   "metadata": {},
   "outputs": [
    {
     "data": {
      "text/plain": [
       "(0.744326923076923, 0.3883946757485272, 0.5922999999999999)"
      ]
     },
     "execution_count": 29,
     "metadata": {},
     "output_type": "execute_result"
    }
   ],
   "source": [
    "get_metrics(rf3p4, states32d[300000:301000], hands[300000:301000], 0.255)"
   ]
  },
  {
   "cell_type": "code",
   "execution_count": 15,
   "metadata": {},
   "outputs": [
    {
     "data": {
      "text/plain": [
       "RandomForestClassifier(min_samples_split=6)"
      ]
     },
     "execution_count": 15,
     "metadata": {},
     "output_type": "execute_result"
    }
   ],
   "source": [
    "rf3p6 = RandomForestClassifier(min_samples_split=6)\n",
    "rf3p6.fit(states32d[:100000], hands[:100000])"
   ]
  },
  {
   "cell_type": "code",
   "execution_count": 16,
   "metadata": {},
   "outputs": [
    {
     "data": {
      "text/plain": [
       "((0.7384615384615386, 0.3848972357272482, 0.5952000000000001),\n",
       " (0.7333461538461538, 0.3767964718712212, 0.5995),\n",
       " (0.7393076923076923, 0.3882503266899939, 0.6256000000000002))"
      ]
     },
     "execution_count": 16,
     "metadata": {},
     "output_type": "execute_result"
    }
   ],
   "source": [
    "get_metrics(rf3p6, states32d[100000:101000], hands[100000:101000], 0.25), \\\n",
    "get_metrics(rf3p6, states32d[200000:201000], hands[200000:201000], 0.25), \\\n",
    "get_metrics(rf3p6, states32d[300000:301000], hands[300000:301000], 0.25)"
   ]
  },
  {
   "cell_type": "code",
   "execution_count": 38,
   "metadata": {},
   "outputs": [
    {
     "data": {
      "text/plain": [
       "RandomForestClassifier(min_samples_split=8)"
      ]
     },
     "execution_count": 38,
     "metadata": {},
     "output_type": "execute_result"
    }
   ],
   "source": [
    "rf3p8 = RandomForestClassifier(min_samples_split=8)\n",
    "rf3p8.fit(states32d[:100000], hands[:100000])"
   ]
  },
  {
   "cell_type": "code",
   "execution_count": 61,
   "metadata": {},
   "outputs": [
    {
     "data": {
      "text/plain": [
       "((0.7380769230769231, 0.38485664854581264, 0.5984),\n",
       " (0.737423076923077, 0.38479276908386484, 0.6115),\n",
       " (0.7377884615384616, 0.38547544905883807, 0.6247999999999999))"
      ]
     },
     "execution_count": 61,
     "metadata": {},
     "output_type": "execute_result"
    }
   ],
   "source": [
    "get_metrics(rf3p8, states32d[100000:101000], hands[100000:101000], 0.25), \\\n",
    "get_metrics(rf3p8, states32d[200000:201000], hands[200000:201000], 0.25), \\\n",
    "get_metrics(rf3p8, states32d[300000:301000], hands[300000:301000], 0.25)"
   ]
  },
  {
   "cell_type": "code",
   "execution_count": 62,
   "metadata": {},
   "outputs": [
    {
     "data": {
      "text/plain": [
       "((0.7528461538461538, 0.39534266111855115, 0.5448999999999999),\n",
       " (0.7503846153846154, 0.39275702525029144, 0.559),\n",
       " (0.7511346153846155, 0.3936231785586275, 0.57))"
      ]
     },
     "execution_count": 62,
     "metadata": {},
     "output_type": "execute_result"
    }
   ],
   "source": [
    "get_metrics(rf3p8, states32d[100000:101000], hands[100000:101000], 0.26), \\\n",
    "get_metrics(rf3p8, states32d[200000:201000], hands[200000:201000], 0.26), \\\n",
    "get_metrics(rf3p8, states32d[300000:301000], hands[300000:301000], 0.26)"
   ]
  },
  {
   "cell_type": "code",
   "execution_count": 63,
   "metadata": {},
   "outputs": [
    {
     "data": {
      "text/plain": [
       "((0.7652307692307693, 0.4061706362737709, 0.4899),\n",
       " (0.762, 0.40037605689374267, 0.5031),\n",
       " (0.763826923076923, 0.40439458216791807, 0.5182))"
      ]
     },
     "execution_count": 63,
     "metadata": {},
     "output_type": "execute_result"
    }
   ],
   "source": [
    "get_metrics(rf3p8, states32d[100000:101000], hands[100000:101000], 0.27), \\\n",
    "get_metrics(rf3p8, states32d[200000:201000], hands[200000:201000], 0.27), \\\n",
    "get_metrics(rf3p8, states32d[300000:301000], hands[300000:301000], 0.27)"
   ]
  },
  {
   "cell_type": "code",
   "execution_count": 17,
   "metadata": {},
   "outputs": [
    {
     "data": {
      "text/plain": [
       "RandomForestClassifier(min_samples_leaf=4, min_samples_split=8)"
      ]
     },
     "execution_count": 17,
     "metadata": {},
     "output_type": "execute_result"
    }
   ],
   "source": [
    "rf3p88 = RandomForestClassifier(min_samples_split=8, min_samples_leaf=4)\n",
    "rf3p88.fit(states32d[:100000], hands[:100000])"
   ]
  },
  {
   "cell_type": "code",
   "execution_count": 18,
   "metadata": {},
   "outputs": [
    {
     "data": {
      "text/plain": [
       "((0.7378076923076924, 0.3851137601222606, 0.5943999999999999),\n",
       " (0.7345, 0.37782028676517837, 0.601),\n",
       " (0.741076923076923, 0.391717926745597, 0.6263))"
      ]
     },
     "execution_count": 18,
     "metadata": {},
     "output_type": "execute_result"
    }
   ],
   "source": [
    "# no sample weight\n",
    "get_metrics(rf3p88, states32d[100000:101000], hands[100000:101000], 0.25), \\\n",
    "get_metrics(rf3p88, states32d[200000:201000], hands[200000:201000], 0.25), \\\n",
    "get_metrics(rf3p88, states32d[300000:301000], hands[300000:301000], 0.25)"
   ]
  },
  {
   "cell_type": "code",
   "execution_count": 57,
   "metadata": {},
   "outputs": [
    {
     "data": {
      "text/plain": [
       "((0.74025, 0.37711397994850004, 0.5595),\n",
       " (0.7375961538461538, 0.37451855645644344, 0.5611000000000002),\n",
       " (0.7438461538461538, 0.3860332238772355, 0.5852999999999999))"
      ]
     },
     "execution_count": 57,
     "metadata": {},
     "output_type": "execute_result"
    }
   ],
   "source": [
    "# sample weight\n",
    "get_metrics(rf3p88, states32d[100000:101000], hands[100000:101000], 0.26), \\\n",
    "get_metrics(rf3p88, states32d[200000:201000], hands[200000:201000], 0.26), \\\n",
    "get_metrics(rf3p88, states32d[300000:301000], hands[300000:301000], 0.26)"
   ]
  },
  {
   "cell_type": "code",
   "execution_count": 75,
   "metadata": {},
   "outputs": [
    {
     "data": {
      "text/plain": [
       "RandomForestClassifier(min_samples_leaf=6)"
      ]
     },
     "execution_count": 75,
     "metadata": {},
     "output_type": "execute_result"
    }
   ],
   "source": [
    "rf3p12 = RandomForestClassifier(min_samples_leaf=6)\n",
    "rf3p12.fit(states32d[:100000], hands[:100000])"
   ]
  },
  {
   "cell_type": "code",
   "execution_count": 76,
   "metadata": {},
   "outputs": [
    {
     "data": {
      "text/plain": [
       "((0.7365384615384616, 0.3821874702892791, 0.5942),\n",
       " (0.7355769230769232, 0.38088011805035127, 0.6056),\n",
       " (0.7378846153846154, 0.3848285144997387, 0.6201))"
      ]
     },
     "execution_count": 76,
     "metadata": {},
     "output_type": "execute_result"
    }
   ],
   "source": [
    "get_metrics(rf3p12, states32d[100000:101000], hands[100000:101000], 0.25), \\\n",
    "get_metrics(rf3p12, states32d[200000:201000], hands[200000:201000], 0.25), \\\n",
    "get_metrics(rf3p12, states32d[300000:301000], hands[300000:301000], 0.25)"
   ]
  },
  {
   "cell_type": "code",
   "execution_count": 34,
   "metadata": {},
   "outputs": [
    {
     "data": {
      "text/plain": [
       "RandomForestClassifier(min_samples_leaf=8)"
      ]
     },
     "execution_count": 34,
     "metadata": {},
     "output_type": "execute_result"
    }
   ],
   "source": [
    "rf3p2 = RandomForestClassifier(min_samples_leaf=8)\n",
    "rf3p2.fit(states32d[:100000], hands[:100000])"
   ]
  },
  {
   "cell_type": "code",
   "execution_count": 58,
   "metadata": {},
   "outputs": [
    {
     "data": {
      "text/plain": [
       "((0.7372692307692307, 0.3842978596910485, 0.5938),\n",
       " (0.7359615384615386, 0.38086428454586346, 0.6047),\n",
       " (0.7398076923076924, 0.38896532059272, 0.6246))"
      ]
     },
     "execution_count": 58,
     "metadata": {},
     "output_type": "execute_result"
    }
   ],
   "source": [
    "get_metrics(rf3p2, states32d[100000:101000], hands[100000:101000], 0.25), \\\n",
    "get_metrics(rf3p2, states32d[200000:201000], hands[200000:201000], 0.25), \\\n",
    "get_metrics(rf3p2, states32d[300000:301000], hands[300000:301000], 0.25)"
   ]
  },
  {
   "cell_type": "code",
   "execution_count": 59,
   "metadata": {},
   "outputs": [
    {
     "data": {
      "text/plain": [
       "((0.7527115384615385, 0.3942305356580124, 0.5311),\n",
       " (0.7522692307692307, 0.3915325254166198, 0.5458999999999999),\n",
       " (0.7536153846153847, 0.39583077844927694, 0.5622))"
      ]
     },
     "execution_count": 59,
     "metadata": {},
     "output_type": "execute_result"
    }
   ],
   "source": [
    "get_metrics(rf3p2, states32d[100000:101000], hands[100000:101000], 0.26), \\\n",
    "get_metrics(rf3p2, states32d[200000:201000], hands[200000:201000], 0.26), \\\n",
    "get_metrics(rf3p2, states32d[300000:301000], hands[300000:301000], 0.26)"
   ]
  },
  {
   "cell_type": "code",
   "execution_count": 60,
   "metadata": {},
   "outputs": [
    {
     "data": {
      "text/plain": [
       "((0.7680576923076924, 0.40955349774494504, 0.46929999999999994),\n",
       " (0.7650576923076924, 0.39895463123048264, 0.48229999999999995),\n",
       " (0.7662884615384615, 0.403016821547046, 0.4988))"
      ]
     },
     "execution_count": 60,
     "metadata": {},
     "output_type": "execute_result"
    }
   ],
   "source": [
    "get_metrics(rf3p2, states32d[100000:101000], hands[100000:101000], 0.27), \\\n",
    "get_metrics(rf3p2, states32d[200000:201000], hands[200000:201000], 0.27), \\\n",
    "get_metrics(rf3p2, states32d[300000:301000], hands[300000:301000], 0.27)"
   ]
  },
  {
   "cell_type": "code",
   "execution_count": 30,
   "metadata": {},
   "outputs": [
    {
     "data": {
      "text/plain": [
       "RandomForestClassifier(min_samples_leaf=4)"
      ]
     },
     "execution_count": 30,
     "metadata": {},
     "output_type": "execute_result"
    }
   ],
   "source": [
    "rf3pl4 = RandomForestClassifier(min_samples_leaf=4)\n",
    "rf3pl4.fit(states32d[:100000], hands[:100000])"
   ]
  },
  {
   "cell_type": "code",
   "execution_count": 109,
   "metadata": {},
   "outputs": [
    {
     "data": {
      "text/plain": [
       "('acc: 0.8738, prec: 0.6710, rec: 0.8824, sds:  0.1152, 0.2284, 0.1678',\n",
       " 'acc: 0.7196, prec: 0.3760, rec: 0.6649, sds:  0.0763, 0.1089, 0.1826',\n",
       " 'acc: 0.7250, prec: 0.3847, rec: 0.6855, sds:  0.0781, 0.1102, 0.1909')"
      ]
     },
     "execution_count": 109,
     "metadata": {},
     "output_type": "execute_result"
    }
   ],
   "source": [
    "get_metrics(rf3pl4, states32d[100000:101000], hands[100000:101000], 0.25), \\\n",
    "get_metrics(rf3pl4, states32d[200000:201000], hands[200000:201000], 0.25), \\\n",
    "get_metrics(rf3pl4, states32d[300000:301000], hands[300000:301000], 0.25)"
   ]
  },
  {
   "cell_type": "code",
   "execution_count": 115,
   "metadata": {},
   "outputs": [
    {
     "data": {
      "text/plain": [
       "('acc: 0.7222, prec: 0.3790, rec: 0.6604, sds:  0.0764, 0.1094, 0.1825',\n",
       " 'acc: 0.7284, prec: 0.3907, rec: 0.6893, sds:  0.0801, 0.1149, 0.1868',\n",
       " 'acc: 0.7193, prec: 0.3773, rec: 0.6717, sds:  0.0820, 0.1145, 0.1933')"
      ]
     },
     "execution_count": 115,
     "metadata": {},
     "output_type": "execute_result"
    }
   ],
   "source": [
    "get_metrics(rf3pl4, states32d[400000:401000], hands[400000:401000], 0.25), \\\n",
    "get_metrics(rf3pl4, states32d[500000:501000], hands[500000:501000], 0.25), \\\n",
    "get_metrics(rf3pl4, states32d[600000:601000], hands[600000:601000], 0.25)"
   ]
  },
  {
   "cell_type": "code",
   "execution_count": 48,
   "metadata": {},
   "outputs": [
    {
     "data": {
      "text/plain": [
       "(0.7384615384615386, 0.386083877210718, 0.6008000000000001)"
      ]
     },
     "execution_count": 48,
     "metadata": {},
     "output_type": "execute_result"
    }
   ],
   "source": [
    "get_metrics(rf3pl4, states32d[100000:101000], hands[100000:101000], 0.25)"
   ]
  },
  {
   "cell_type": "code",
   "execution_count": 49,
   "metadata": {},
   "outputs": [
    {
     "data": {
      "text/plain": [
       "(0.7326538461538462, 0.3753762261956198, 0.5968000000000001)"
      ]
     },
     "execution_count": 49,
     "metadata": {},
     "output_type": "execute_result"
    }
   ],
   "source": [
    "get_metrics(rf3pl4, states32d[200000:201000], hands[200000:201000], 0.25)"
   ]
  },
  {
   "cell_type": "code",
   "execution_count": 50,
   "metadata": {},
   "outputs": [
    {
     "data": {
      "text/plain": [
       "(0.7391346153846152, 0.38664257091377835, 0.6186)"
      ]
     },
     "execution_count": 50,
     "metadata": {},
     "output_type": "execute_result"
    }
   ],
   "source": [
    "get_metrics(rf3pl4, states32d[300000:301000], hands[300000:301000], 0.25)"
   ]
  },
  {
   "cell_type": "markdown",
   "metadata": {},
   "source": [
    "# only predict for after opponent has done at least 2 moves (sum > 14)"
   ]
  },
  {
   "cell_type": "code",
   "execution_count": 15,
   "metadata": {},
   "outputs": [],
   "source": [
    "states14 = states32d[sum_states2d > 14]"
   ]
  },
  {
   "cell_type": "code",
   "execution_count": 16,
   "metadata": {},
   "outputs": [],
   "source": [
    "hands14 = hands[sum_states2d > 14]"
   ]
  },
  {
   "cell_type": "code",
   "execution_count": null,
   "metadata": {},
   "outputs": [],
   "source": [
    "# random sampling for test and train"
   ]
  },
  {
   "cell_type": "code",
   "execution_count": 14,
   "metadata": {},
   "outputs": [
    {
     "data": {
      "text/plain": [
       "(1760943, 156)"
      ]
     },
     "execution_count": 14,
     "metadata": {},
     "output_type": "execute_result"
    }
   ],
   "source": [
    "states14.shape"
   ]
  },
  {
   "cell_type": "code",
   "execution_count": 17,
   "metadata": {},
   "outputs": [
    {
     "data": {
      "text/plain": [
       "RandomForestClassifier(min_samples_leaf=4)"
      ]
     },
     "execution_count": 17,
     "metadata": {},
     "output_type": "execute_result"
    }
   ],
   "source": [
    "rf3pl4 = RandomForestClassifier(min_samples_leaf=4)\n",
    "rf3pl4.fit(states14[:100000], hands14[:100000])"
   ]
  },
  {
   "cell_type": "code",
   "execution_count": 124,
   "metadata": {},
   "outputs": [
    {
     "data": {
      "text/plain": [
       "array([ 92,  55,  80,  65,  68,  94,  93,  54,  78,  82,  91,  79,  66,\n",
       "        95,  52,  67,  81,  69,  56,  83,  53,  70,   3,  57,  96,  16,\n",
       "        28,   2,  13,  15,  42,  29,  27,   1,  14,  40,  41,   0,  39,\n",
       "        26,  84,  58,  71,  97,  43,  17,  30,   4,  72,  98,  85,  59,\n",
       "       155, 142, 129,  31, 116,  44,  18, 128,   5, 141, 154,  60, 115,\n",
       "       103, 127, 140, 153,  73, 139, 114, 102, 126,  76, 113,  86, 152,\n",
       "        99,  77,   6,  63,  89,  19,  45,  90,  32, 101,  75,  62,  64,\n",
       "        61, 112, 125, 138,  88, 151,  46,  87, 124,  20, 111,  33,   7,\n",
       "       137,  74, 100, 150, 136, 123, 149, 110,  47,   8,  34,  21, 135,\n",
       "       148, 109, 122,  12,  38,  11,  36, 119, 108, 146, 120,  24, 121,\n",
       "       134, 118,  35,  51,  25,  50, 106, 104, 147,  23,  22,  49,  48,\n",
       "        37, 117, 143, 107, 145,  10, 132, 144, 131,   9, 133, 105, 130])"
      ]
     },
     "execution_count": 124,
     "metadata": {},
     "output_type": "execute_result"
    }
   ],
   "source": [
    "rf3pl4.feature_importances_.argsort()"
   ]
  },
  {
   "cell_type": "code",
   "execution_count": 110,
   "metadata": {},
   "outputs": [
    {
     "data": {
      "text/plain": [
       "('acc: 0.7614, prec: 0.4356, rec: 0.7570, sds:  0.0682, 0.1012, 0.1676',\n",
       " 'acc: 0.7542, prec: 0.4252, rec: 0.7352, sds:  0.0699, 0.1062, 0.1763',\n",
       " 'acc: 0.7551, prec: 0.4269, rec: 0.7501, sds:  0.0686, 0.0992, 0.1679')"
      ]
     },
     "execution_count": 110,
     "metadata": {},
     "output_type": "execute_result"
    }
   ],
   "source": [
    "get_metrics(rf3pl4, states14[100000:101000], hands14[100000:101000], 0.25), \\\n",
    "get_metrics(rf3pl4, states14[200000:201000], hands14[200000:201000], 0.25), \\\n",
    "get_metrics(rf3pl4, states14[300000:301000], hands14[300000:301000], 0.25)"
   ]
  },
  {
   "cell_type": "code",
   "execution_count": 121,
   "metadata": {},
   "outputs": [
    {
     "data": {
      "text/plain": [
       "('acc: 0.7760, prec: 0.4501, rec: 0.6772, sds:  0.0667, 0.1168, 0.1810',\n",
       " 'acc: 0.7682, prec: 0.4359, rec: 0.6510, sds:  0.0696, 0.1252, 0.1972',\n",
       " 'acc: 0.7715, prec: 0.4433, rec: 0.6782, sds:  0.0679, 0.1157, 0.1827')"
      ]
     },
     "execution_count": 121,
     "metadata": {},
     "output_type": "execute_result"
    }
   ],
   "source": [
    "get_metrics(rf3pl4, states14[100000:101000], hands14[100000:101000], 0.27), \\\n",
    "get_metrics(rf3pl4, states14[200000:201000], hands14[200000:201000], 0.27), \\\n",
    "get_metrics(rf3pl4, states14[300000:301000], hands14[300000:301000], 0.27)"
   ]
  },
  {
   "cell_type": "code",
   "execution_count": 35,
   "metadata": {},
   "outputs": [
    {
     "data": {
      "text/plain": [
       "((0.79425, 0.47493049230181583, 0.5362),\n",
       " (0.7882115384615385, 0.4593347985347985, 0.5073),\n",
       " (0.7893461538461538, 0.46533821276762455, 0.5332))"
      ]
     },
     "execution_count": 35,
     "metadata": {},
     "output_type": "execute_result"
    }
   ],
   "source": [
    "get_metrics(rf3pl4, states14[100000:101000], hands14[100000:101000], 0.3), \\\n",
    "get_metrics(rf3pl4, states14[200000:201000], hands14[200000:201000], 0.3), \\\n",
    "get_metrics(rf3pl4, states14[300000:301000], hands14[300000:301000], 0.3)"
   ]
  },
  {
   "cell_type": "code",
   "execution_count": 36,
   "metadata": {},
   "outputs": [
    {
     "data": {
      "text/plain": [
       "((0.6971346153846154, 0.38096205392066257, 0.8887),\n",
       " (0.6906923076923077, 0.3747471016268892, 0.8788),\n",
       " (0.68525, 0.36970009942719667, 0.8752000000000001))"
      ]
     },
     "execution_count": 36,
     "metadata": {},
     "output_type": "execute_result"
    }
   ],
   "source": [
    "get_metrics(rf3pl4, states14[100000:101000], hands14[100000:101000], 0.2), \\\n",
    "get_metrics(rf3pl4, states14[200000:201000], hands14[200000:201000], 0.2), \\\n",
    "get_metrics(rf3pl4, states14[300000:301000], hands14[300000:301000], 0.2)"
   ]
  },
  {
   "cell_type": "code",
   "execution_count": 97,
   "metadata": {},
   "outputs": [
    {
     "data": {
      "text/plain": [
       "array([0, 1, 1, 0, 0, 0, 0, 0, 0, 0, 0, 0, 0, 1, 1, 0, 1, 0, 0, 0, 1, 1,\n",
       "       1, 0, 0, 0, 0, 0, 0, 1, 0, 0, 0, 0, 0, 0, 0, 0, 0, 0, 1, 0, 0, 0,\n",
       "       0, 0, 0, 0, 0, 0, 0, 0])"
      ]
     },
     "execution_count": 97,
     "metadata": {},
     "output_type": "execute_result"
    }
   ],
   "source": [
    "predict_cards_t(predict_opponent_hand(rf3pl4, states32d[100000]), 0.3)"
   ]
  },
  {
   "cell_type": "code",
   "execution_count": 100,
   "metadata": {},
   "outputs": [
    {
     "data": {
      "text/plain": [
       "array([0.04850275, 0.48865366, 0.55083505, 0.262321  , 0.17529011,\n",
       "       0.21516099, 0.09137859, 0.12865693, 0.14379256, 0.03651992,\n",
       "       0.02660087, 0.01784271, 0.02449299, 0.56746169, 0.46233836,\n",
       "       0.22226285, 0.52502775, 0.19145343, 0.23061444, 0.18999786,\n",
       "       0.4912247 , 0.59404097, 0.36998132, 0.08799179, 0.06267002,\n",
       "       0.05130105, 0.25368217, 0.22279219, 0.17398577, 0.50479256,\n",
       "       0.21776975, 0.14459601, 0.0891109 , 0.06179034, 0.17762392,\n",
       "       0.04738275, 0.02683613, 0.02083613, 0.03017617, 0.25817038,\n",
       "       0.57444177, 0.12683795, 0.06882663, 0.12894447, 0.14633802,\n",
       "       0.11377629, 0.07956027, 0.18878938, 0.01867385, 0.02567374,\n",
       "       0.01459127, 0.02758682])"
      ]
     },
     "execution_count": 100,
     "metadata": {},
     "output_type": "execute_result"
    }
   ],
   "source": [
    "predict_opponent_hand(rf3pl4, states32d[100000])"
   ]
  },
  {
   "cell_type": "code",
   "execution_count": 72,
   "metadata": {},
   "outputs": [
    {
     "data": {
      "text/plain": [
       "16.0"
      ]
     },
     "execution_count": 72,
     "metadata": {},
     "output_type": "execute_result"
    }
   ],
   "source": [
    "sum(states14[400000])"
   ]
  },
  {
   "cell_type": "code",
   "execution_count": 99,
   "metadata": {},
   "outputs": [
    {
     "data": {
      "text/plain": [
       "array([0, 1, 1, 0, 0, 0, 0, 0, 0, 0, 0, 0, 0, 1, 1, 0, 1, 0, 0, 0, 1, 1,\n",
       "       1, 0, 0, 0, 0, 0, 0, 1, 0, 0, 0, 0, 0, 0, 0, 0, 0, 0, 1, 0, 0, 0,\n",
       "       0, 0, 0, 0, 0, 0, 0, 0])"
      ]
     },
     "execution_count": 99,
     "metadata": {},
     "output_type": "execute_result"
    }
   ],
   "source": [
    "hands[100000].astype(int)"
   ]
  },
  {
   "cell_type": "code",
   "execution_count": null,
   "metadata": {},
   "outputs": [],
   "source": [
    "with open(\"rf.obj\",\"wb\") as f:\n",
    "    dill.dump(rf0,f)"
   ]
  },
  {
   "cell_type": "code",
   "execution_count": null,
   "metadata": {},
   "outputs": [],
   "source": []
  },
  {
   "cell_type": "code",
   "execution_count": 117,
   "metadata": {},
   "outputs": [],
   "source": [
    "states16 = states32d[sum_states2d > 16]"
   ]
  },
  {
   "cell_type": "code",
   "execution_count": 118,
   "metadata": {},
   "outputs": [],
   "source": [
    "hands16 = hands[sum_states2d > 16]"
   ]
  },
  {
   "cell_type": "code",
   "execution_count": 119,
   "metadata": {},
   "outputs": [
    {
     "data": {
      "text/plain": [
       "RandomForestClassifier(min_samples_leaf=4)"
      ]
     },
     "execution_count": 119,
     "metadata": {},
     "output_type": "execute_result"
    }
   ],
   "source": [
    "rf3p16 = RandomForestClassifier(min_samples_leaf=4)\n",
    "rf3p16.fit(states16[:100000], hands16[:100000])"
   ]
  },
  {
   "cell_type": "code",
   "execution_count": 120,
   "metadata": {},
   "outputs": [
    {
     "data": {
      "text/plain": [
       "('acc: 0.7512, prec: 0.4200, rec: 0.7488, sds:  0.0601, 0.0881, 0.1580',\n",
       " 'acc: 0.7518, prec: 0.4217, rec: 0.7523, sds:  0.0681, 0.0992, 0.1698',\n",
       " 'acc: 0.7532, prec: 0.4241, rec: 0.7560, sds:  0.0651, 0.0943, 0.1615')"
      ]
     },
     "execution_count": 120,
     "metadata": {},
     "output_type": "execute_result"
    }
   ],
   "source": [
    "get_metrics(rf3p16, states16[100000:101000], hands16[100000:101000], 0.25), \\\n",
    "get_metrics(rf3p16, states16[200000:201000], hands16[200000:201000], 0.25), \\\n",
    "get_metrics(rf3p16, states16[300000:301000], hands16[300000:301000], 0.25)"
   ]
  },
  {
   "cell_type": "code",
   "execution_count": null,
   "metadata": {},
   "outputs": [],
   "source": []
  },
  {
   "cell_type": "code",
   "execution_count": 29,
   "metadata": {},
   "outputs": [
    {
     "data": {
      "text/plain": [
       "((0.7506923076923077, 0.3518, 0.3518),\n",
       " (0.7528846153846154, 0.3575, 0.3575),\n",
       " (0.7528461538461538, 0.3574, 0.3574))"
      ]
     },
     "execution_count": 29,
     "metadata": {},
     "output_type": "execute_result"
    }
   ],
   "source": [
    "get_metrics_rand(states[sum_states2d > 14][100000:101000], hands14[100000:101000]), \\\n",
    "get_metrics_rand(states[sum_states2d > 14][200000:201000], hands14[200000:201000]), \\\n",
    "get_metrics_rand(states[sum_states2d > 14][300000:301000], hands14[300000:301000])"
   ]
  },
  {
   "cell_type": "code",
   "execution_count": 103,
   "metadata": {},
   "outputs": [],
   "source": [
    "states18 = states32d[sum_states2d > 18]\n",
    "hands18 = hands[sum_states2d > 18]"
   ]
  },
  {
   "cell_type": "code",
   "execution_count": 116,
   "metadata": {},
   "outputs": [
    {
     "data": {
      "text/plain": [
       "(1034019, 156)"
      ]
     },
     "execution_count": 116,
     "metadata": {},
     "output_type": "execute_result"
    }
   ],
   "source": [
    "states18.shape"
   ]
  },
  {
   "cell_type": "code",
   "execution_count": 104,
   "metadata": {},
   "outputs": [
    {
     "data": {
      "text/plain": [
       "RandomForestClassifier(min_samples_leaf=4)"
      ]
     },
     "execution_count": 104,
     "metadata": {},
     "output_type": "execute_result"
    }
   ],
   "source": [
    "rf3p18 = RandomForestClassifier(min_samples_leaf=4)\n",
    "rf3p18.fit(states18[:100000], hands18[:100000])"
   ]
  },
  {
   "cell_type": "code",
   "execution_count": 112,
   "metadata": {},
   "outputs": [
    {
     "data": {
      "text/plain": [
       "('acc: 0.7684, prec: 0.4454, rec: 0.7794, sds:  0.0637, 0.0949, 0.1582',\n",
       " 'acc: 0.7581, prec: 0.4289, rec: 0.7587, sds:  0.0623, 0.0920, 0.1661',\n",
       " 'acc: 0.7731, prec: 0.4509, rec: 0.7828, sds:  0.0642, 0.0979, 0.1683')"
      ]
     },
     "execution_count": 112,
     "metadata": {},
     "output_type": "execute_result"
    }
   ],
   "source": [
    "get_metrics(rf3p18, states18[100000:101000], hands18[100000:101000], 0.25), \\\n",
    "get_metrics(rf3p18, states18[200000:201000], hands18[200000:201000], 0.25), \\\n",
    "get_metrics(rf3p18, states18[300000:301000], hands18[300000:301000], 0.25)"
   ]
  },
  {
   "cell_type": "markdown",
   "metadata": {},
   "source": [
    "# weight most recent moves more heavily"
   ]
  },
  {
   "cell_type": "code",
   "execution_count": 49,
   "metadata": {},
   "outputs": [],
   "source": [
    "states_d = np.load('states_d.npy')\n",
    "hands_d = np.load('hands_d.npy')"
   ]
  },
  {
   "cell_type": "code",
   "execution_count": 9,
   "metadata": {},
   "outputs": [
    {
     "data": {
      "text/plain": [
       "(1526432, 3, 52)"
      ]
     },
     "execution_count": 9,
     "metadata": {},
     "output_type": "execute_result"
    }
   ],
   "source": [
    "states_d.shape"
   ]
  },
  {
   "cell_type": "code",
   "execution_count": 50,
   "metadata": {},
   "outputs": [],
   "source": [
    "states_d2d = states_d.reshape(1526432, 3*52)"
   ]
  },
  {
   "cell_type": "code",
   "execution_count": 11,
   "metadata": {},
   "outputs": [
    {
     "data": {
      "text/plain": [
       "RandomForestClassifier(min_samples_leaf=4)"
      ]
     },
     "execution_count": 11,
     "metadata": {},
     "output_type": "execute_result"
    }
   ],
   "source": [
    "rfd = RandomForestClassifier(min_samples_leaf=4)\n",
    "rfd.fit(states_d2d[:100000], hands_d[:100000])"
   ]
  },
  {
   "cell_type": "code",
   "execution_count": 113,
   "metadata": {},
   "outputs": [
    {
     "data": {
      "text/plain": [
       "('acc: 0.7370, prec: 0.3853, rec: 0.6203, sds:  0.0696, 0.1180, 0.2193',\n",
       " 'acc: 0.7292, prec: 0.3721, rec: 0.5924, sds:  0.0689, 0.1165, 0.2113',\n",
       " 'acc: 0.7377, prec: 0.3845, rec: 0.6157, sds:  0.0676, 0.1136, 0.2149')"
      ]
     },
     "execution_count": 113,
     "metadata": {},
     "output_type": "execute_result"
    }
   ],
   "source": [
    "get_metrics(rfd, states_d2d[100000:101000], hands_d[100000:101000], 0.25), \\\n",
    "get_metrics(rfd, states_d2d[200000:201000], hands_d[200000:201000], 0.25), \\\n",
    "get_metrics(rfd, states_d2d[300000:301000], hands_d[300000:301000], 0.25)"
   ]
  },
  {
   "cell_type": "code",
   "execution_count": 13,
   "metadata": {},
   "outputs": [
    {
     "data": {
      "text/plain": [
       "((0.7498461538461538, 0.39094652485457443, 0.5607000000000001),\n",
       " (0.7459615384615385, 0.38441055860204465, 0.5328999999999999),\n",
       " (0.7508846153846154, 0.39041708438190637, 0.5553999999999999))"
      ]
     },
     "execution_count": 13,
     "metadata": {},
     "output_type": "execute_result"
    }
   ],
   "source": [
    "get_metrics(rfd, states_d2d[100000:101000], hands_d[100000:101000], 0.26), \\\n",
    "get_metrics(rfd, states_d2d[200000:201000], hands_d[200000:201000], 0.26), \\\n",
    "get_metrics(rfd, states_d2d[300000:301000], hands_d[300000:301000], 0.26)"
   ]
  },
  {
   "cell_type": "code",
   "execution_count": 55,
   "metadata": {},
   "outputs": [],
   "source": [
    "sum_states_d = np.sum(states_d2d, axis=1)"
   ]
  },
  {
   "cell_type": "code",
   "execution_count": 17,
   "metadata": {},
   "outputs": [
    {
     "data": {
      "text/plain": [
       "array([12.     , 12.     , 13.9    , 13.9    , 15.61   , 15.61   ,\n",
       "       17.149  , 17.149  , 18.5341 , 18.5341 , 19.88069, 12.     ,\n",
       "       12.     , 13.8    , 13.9    , 12.     , 12.     , 13.8    ,\n",
       "       13.9    , 15.42   ])"
      ]
     },
     "execution_count": 17,
     "metadata": {},
     "output_type": "execute_result"
    }
   ],
   "source": [
    "sum_states_d[:20]"
   ]
  },
  {
   "cell_type": "code",
   "execution_count": 56,
   "metadata": {},
   "outputs": [],
   "source": [
    "states_d14 = states_d2d[sum_states_d > 14]\n",
    "hands_d14 = hands_d[sum_states_d > 14]"
   ]
  },
  {
   "cell_type": "code",
   "execution_count": 21,
   "metadata": {},
   "outputs": [
    {
     "data": {
      "text/plain": [
       "RandomForestClassifier(min_samples_leaf=4)"
      ]
     },
     "execution_count": 21,
     "metadata": {},
     "output_type": "execute_result"
    }
   ],
   "source": [
    "rfdl4 = RandomForestClassifier(min_samples_leaf=4)\n",
    "rfdl4.fit(states_d14[:100000], hands_d14[:100000])"
   ]
  },
  {
   "cell_type": "code",
   "execution_count": 114,
   "metadata": {},
   "outputs": [
    {
     "data": {
      "text/plain": [
       "('acc: 0.7413, prec: 0.4062, rec: 0.7158, sds:  0.0693, 0.0992, 0.1719',\n",
       " 'acc: 0.7479, prec: 0.4159, rec: 0.7256, sds:  0.0709, 0.1053, 0.1767',\n",
       " 'acc: 0.7457, prec: 0.4122, rec: 0.7297, sds:  0.0686, 0.1008, 0.1748')"
      ]
     },
     "execution_count": 114,
     "metadata": {},
     "output_type": "execute_result"
    }
   ],
   "source": [
    "get_metrics(rfdl4, states_d14[100000:101000], hands_d14[100000:101000], 0.25), \\\n",
    "get_metrics(rfdl4, states_d14[200000:201000], hands_d14[200000:201000], 0.25), \\\n",
    "get_metrics(rfdl4, states_d14[300000:301000], hands_d14[300000:301000], 0.25)"
   ]
  },
  {
   "cell_type": "code",
   "execution_count": 122,
   "metadata": {},
   "outputs": [
    {
     "data": {
      "text/plain": [
       "('acc: 0.7573, prec: 0.4175, rec: 0.6305, sds:  0.0675, 0.1154, 0.1813',\n",
       " 'acc: 0.7665, prec: 0.4351, rec: 0.6480, sds:  0.0701, 0.1237, 0.1872',\n",
       " 'acc: 0.7612, prec: 0.4243, rec: 0.6504, sds:  0.0672, 0.1159, 0.1870')"
      ]
     },
     "execution_count": 122,
     "metadata": {},
     "output_type": "execute_result"
    }
   ],
   "source": [
    "get_metrics(rfdl4, states_d14[100000:101000], hands_d14[100000:101000], 0.27), \\\n",
    "get_metrics(rfdl4, states_d14[200000:201000], hands_d14[200000:201000], 0.27), \\\n",
    "get_metrics(rfdl4, states_d14[300000:301000], hands_d14[300000:301000], 0.27)"
   ]
  },
  {
   "cell_type": "code",
   "execution_count": 102,
   "metadata": {},
   "outputs": [
    {
     "data": {
      "text/plain": [
       "((0.7391346153846154, 0.40303304790623745, 0.7177),)"
      ]
     },
     "execution_count": 102,
     "metadata": {},
     "output_type": "execute_result"
    }
   ],
   "source": [
    "get_metrics(rfdl4, states_d14[400000:401000], hands_d14[400000:401000], 0.25)"
   ]
  },
  {
   "cell_type": "code",
   "execution_count": 77,
   "metadata": {},
   "outputs": [
    {
     "data": {
      "text/plain": [
       "array([0, 1, 0, 1, 0, 0, 0, 0, 0, 0, 0, 0, 0, 1, 0, 1, 0, 0, 0, 0, 0, 1,\n",
       "       0, 1, 0, 0, 1, 1, 1, 1, 0, 0, 0, 0, 0, 0, 0, 0, 0, 0, 1, 0, 1, 0,\n",
       "       0, 0, 0, 0, 0, 0, 0, 0])"
      ]
     },
     "execution_count": 77,
     "metadata": {},
     "output_type": "execute_result"
    }
   ],
   "source": [
    "predict_cards_t(predict_opponent_hand(rfdl4, states_d14[400000]), 0.3)"
   ]
  },
  {
   "cell_type": "code",
   "execution_count": 81,
   "metadata": {},
   "outputs": [
    {
     "data": {
      "text/plain": [
       "array([0.11695514, 0.13020837, 0.41477651, 0.31721578, 0.32114458,\n",
       "       0.23503989, 0.15424226, 0.21701587, 0.12759285, 0.06626575,\n",
       "       0.0483377 , 0.04682913, 0.04927681, 0.38910322, 0.32246562,\n",
       "       0.26276274, 0.29943815, 0.30840264, 0.17257256, 0.2024778 ,\n",
       "       0.23270644, 0.1720206 , 0.06565081, 0.06839328, 0.06196805,\n",
       "       0.06406675, 0.32519415, 0.31179317, 0.38356284, 0.32153378,\n",
       "       0.25848511, 0.27521643, 0.18748377, 0.32518914, 0.16045403,\n",
       "       0.07244994, 0.07867174, 0.07021962, 0.0822298 , 0.16602312,\n",
       "       0.3493189 , 0.30828754, 0.14986694, 0.25186885, 0.29420082,\n",
       "       0.25056537, 0.21069618, 0.12407223, 0.04764948, 0.03372339,\n",
       "       0.04573486, 0.04857953])"
      ]
     },
     "execution_count": 81,
     "metadata": {},
     "output_type": "execute_result"
    }
   ],
   "source": [
    "predict_opponent_hand(rfdl4, states_d14[400007])"
   ]
  },
  {
   "cell_type": "code",
   "execution_count": 78,
   "metadata": {},
   "outputs": [
    {
     "data": {
      "text/plain": [
       "array([0, 1, 0, 0, 0, 0, 0, 0, 0, 0, 0, 0, 0, 1, 0, 0, 0, 0, 0, 0, 0, 1,\n",
       "       1, 1, 1, 0, 1, 0, 1, 1, 0, 0, 0, 0, 0, 0, 0, 0, 0, 0, 1, 0, 0, 0,\n",
       "       0, 0, 0, 0, 0, 0, 0, 0])"
      ]
     },
     "execution_count": 78,
     "metadata": {},
     "output_type": "execute_result"
    }
   ],
   "source": [
    "hands_d14[400000].astype(int)"
   ]
  },
  {
   "cell_type": "markdown",
   "metadata": {},
   "source": [
    "# randomize training and test data "
   ]
  },
  {
   "cell_type": "code",
   "execution_count": 20,
   "metadata": {},
   "outputs": [
    {
     "data": {
      "text/plain": [
       "2571176"
      ]
     },
     "execution_count": 20,
     "metadata": {},
     "output_type": "execute_result"
    }
   ],
   "source": [
    "len(states32d)"
   ]
  },
  {
   "cell_type": "code",
   "execution_count": 26,
   "metadata": {},
   "outputs": [],
   "source": [
    "inds2 = sample(range(len(states32d)), 110000)"
   ]
  },
  {
   "cell_type": "code",
   "execution_count": 27,
   "metadata": {},
   "outputs": [],
   "source": [
    "train_inds2 = inds2[:100000]\n",
    "test_inds2 = inds2[100000:]"
   ]
  },
  {
   "cell_type": "code",
   "execution_count": 23,
   "metadata": {},
   "outputs": [
    {
     "data": {
      "text/plain": [
       "RandomForestClassifier(min_samples_leaf=4)"
      ]
     },
     "execution_count": 23,
     "metadata": {},
     "output_type": "execute_result"
    }
   ],
   "source": [
    "rfr2 = RandomForestClassifier(min_samples_leaf=4)\n",
    "rfr2.fit(states32d[train_inds2], hands[train_inds2])"
   ]
  },
  {
   "cell_type": "code",
   "execution_count": 26,
   "metadata": {},
   "outputs": [
    {
     "data": {
      "text/plain": [
       "'acc: 0.8899, prec: 0.6971, rec: 0.8736, sds:  0.0965, 0.2160, 0.1819'"
      ]
     },
     "execution_count": 26,
     "metadata": {},
     "output_type": "execute_result"
    }
   ],
   "source": [
    "get_metrics(rfr2, states32d[test_inds2], hands[test_inds2], 0.25)"
   ]
  },
  {
   "cell_type": "code",
   "execution_count": 28,
   "metadata": {},
   "outputs": [
    {
     "data": {
      "text/plain": [
       "'acc: 0.9025, prec: 0.7288, rec: 0.8548, sds:  0.0909, 0.2169, 0.2017'"
      ]
     },
     "execution_count": 28,
     "metadata": {},
     "output_type": "execute_result"
    }
   ],
   "source": [
    "get_metrics(rfr2, states32d[test_inds2], hands[test_inds2], 0.26)"
   ]
  },
  {
   "cell_type": "code",
   "execution_count": 30,
   "metadata": {},
   "outputs": [
    {
     "data": {
      "text/plain": [
       "'acc: 0.9195, prec: 0.7844, rec: 0.8124, sds:  0.0817, 0.2202, 0.2426'"
      ]
     },
     "execution_count": 30,
     "metadata": {},
     "output_type": "execute_result"
    }
   ],
   "source": [
    "get_metrics(rfr2, states32d[test_inds2], hands[test_inds2], 0.28)"
   ]
  },
  {
   "cell_type": "code",
   "execution_count": 27,
   "metadata": {},
   "outputs": [
    {
     "data": {
      "text/plain": [
       "'acc: 0.7675, prec: 0.4365, rec: 0.6250, sds:  0.0674, 0.1302, 0.1780'"
      ]
     },
     "execution_count": 27,
     "metadata": {},
     "output_type": "execute_result"
    }
   ],
   "source": [
    "get_metrics(rfr2, states32d[100000:100100], hands[100000:100100], 0.25)"
   ]
  },
  {
   "cell_type": "code",
   "execution_count": 35,
   "metadata": {},
   "outputs": [
    {
     "data": {
      "text/plain": [
       "'acc: 0.9043, prec: 0.7255, rec: 0.9226, sds:  0.0873, 0.1995, 0.1334'"
      ]
     },
     "execution_count": 35,
     "metadata": {},
     "output_type": "execute_result"
    }
   ],
   "source": [
    "get_metrics(rfr2, states14[test_inds], hands14[test_inds], 0.25)"
   ]
  },
  {
   "cell_type": "code",
   "execution_count": 43,
   "metadata": {},
   "outputs": [
    {
     "data": {
      "text/plain": [
       "RandomForestClassifier(min_samples_leaf=2)"
      ]
     },
     "execution_count": 43,
     "metadata": {},
     "output_type": "execute_result"
    }
   ],
   "source": [
    "rfr8 = RandomForestClassifier(min_samples_leaf=2)\n",
    "rfr8.fit(states32d[train_inds2], hands[train_inds2])"
   ]
  },
  {
   "cell_type": "code",
   "execution_count": 44,
   "metadata": {},
   "outputs": [
    {
     "data": {
      "text/plain": [
       "'acc: 0.9226, prec: 0.7844, rec: 0.9073, sds:  0.0963, 0.2221, 0.1683'"
      ]
     },
     "execution_count": 44,
     "metadata": {},
     "output_type": "execute_result"
    }
   ],
   "source": [
    "get_metrics(rfr8, states32d[test_inds2], hands[test_inds2], 0.25)"
   ]
  },
  {
   "cell_type": "code",
   "execution_count": 57,
   "metadata": {},
   "outputs": [
    {
     "data": {
      "text/plain": [
       "'acc: 0.9296, prec: 0.8015, rec: 0.8948, sds:  0.0906, 0.2186, 0.1869'"
      ]
     },
     "execution_count": 57,
     "metadata": {},
     "output_type": "execute_result"
    }
   ],
   "source": [
    "get_metrics(rfr8, states32d[test_inds2], hands[test_inds2], 0.26)"
   ]
  },
  {
   "cell_type": "code",
   "execution_count": 58,
   "metadata": {},
   "outputs": [
    {
     "data": {
      "text/plain": [
       "'acc: 0.9398, prec: 0.8317, rec: 0.8677, sds:  0.0813, 0.2137, 0.2242'"
      ]
     },
     "execution_count": 58,
     "metadata": {},
     "output_type": "execute_result"
    }
   ],
   "source": [
    "get_metrics(rfr8, states32d[test_inds2], hands[test_inds2], 0.28)"
   ]
  },
  {
   "cell_type": "code",
   "execution_count": 59,
   "metadata": {},
   "outputs": [
    {
     "data": {
      "text/plain": [
       "'acc: 0.7679, prec: 0.4414, rec: 0.6470, sds:  0.0764, 0.1390, 0.1873'"
      ]
     },
     "execution_count": 59,
     "metadata": {},
     "output_type": "execute_result"
    }
   ],
   "source": [
    "get_metrics(rfr8, states32d[100000:100100], hands[100000:100100], 0.25)"
   ]
  },
  {
   "cell_type": "code",
   "execution_count": 63,
   "metadata": {},
   "outputs": [],
   "source": [
    "dill_save(rfr8, 'rf2.obj')"
   ]
  },
  {
   "cell_type": "code",
   "execution_count": 60,
   "metadata": {},
   "outputs": [
    {
     "data": {
      "text/plain": [
       "RandomForestClassifier()"
      ]
     },
     "execution_count": 60,
     "metadata": {},
     "output_type": "execute_result"
    }
   ],
   "source": [
    "rfr1 = RandomForestClassifier()\n",
    "rfr1.fit(states32d[train_inds2], hands[train_inds2])"
   ]
  },
  {
   "cell_type": "code",
   "execution_count": 61,
   "metadata": {},
   "outputs": [
    {
     "data": {
      "text/plain": [
       "'acc: 0.9432, prec: 0.8476, rec: 0.9139, sds:  0.0918, 0.2222, 0.1708'"
      ]
     },
     "execution_count": 61,
     "metadata": {},
     "output_type": "execute_result"
    }
   ],
   "source": [
    "get_metrics(rfr1, states32d[test_inds2], hands[test_inds2], 0.25)"
   ]
  },
  {
   "cell_type": "code",
   "execution_count": 62,
   "metadata": {},
   "outputs": [
    {
     "data": {
      "text/plain": [
       "'acc: 0.7735, prec: 0.4462, rec: 0.5930, sds:  0.0855, 0.1882, 0.2141'"
      ]
     },
     "execution_count": 62,
     "metadata": {},
     "output_type": "execute_result"
    }
   ],
   "source": [
    "get_metrics(rfr1, states32d[100000:100100], hands[100000:100100], 0.25)"
   ]
  },
  {
   "cell_type": "code",
   "execution_count": 127,
   "metadata": {},
   "outputs": [
    {
     "data": {
      "text/plain": [
       "1760943"
      ]
     },
     "execution_count": 127,
     "metadata": {},
     "output_type": "execute_result"
    }
   ],
   "source": [
    "len(states14)"
   ]
  },
  {
   "cell_type": "code",
   "execution_count": 18,
   "metadata": {},
   "outputs": [],
   "source": [
    "inds = sample(range(len(states14)), 110000)"
   ]
  },
  {
   "cell_type": "code",
   "execution_count": 19,
   "metadata": {},
   "outputs": [],
   "source": [
    "train_inds = inds[:100000]\n",
    "test_inds = inds[100000:]"
   ]
  },
  {
   "cell_type": "code",
   "execution_count": 20,
   "metadata": {},
   "outputs": [
    {
     "data": {
      "text/plain": [
       "'acc: 0.7576, prec: 0.4353, rec: 0.7425, sds:  0.0803, 0.1327, 0.1766'"
      ]
     },
     "execution_count": 20,
     "metadata": {},
     "output_type": "execute_result"
    }
   ],
   "source": [
    "get_metrics(rf3pl4, states14[test_inds], hands14[test_inds], 0.25)"
   ]
  },
  {
   "cell_type": "code",
   "execution_count": 21,
   "metadata": {},
   "outputs": [
    {
     "data": {
      "text/plain": [
       "RandomForestClassifier(min_samples_leaf=4)"
      ]
     },
     "execution_count": 21,
     "metadata": {},
     "output_type": "execute_result"
    }
   ],
   "source": [
    "rfr14 = RandomForestClassifier(min_samples_leaf=4)\n",
    "rfr14.fit(states14[train_inds], hands14[train_inds])"
   ]
  },
  {
   "cell_type": "code",
   "execution_count": 22,
   "metadata": {},
   "outputs": [
    {
     "data": {
      "text/plain": [
       "'acc: 0.9092, prec: 0.7408, rec: 0.9343, sds:  0.0914, 0.2038, 0.1226'"
      ]
     },
     "execution_count": 22,
     "metadata": {},
     "output_type": "execute_result"
    }
   ],
   "source": [
    "get_metrics(rfr14, states14[test_inds], hands14[test_inds], 0.25)"
   ]
  },
  {
   "cell_type": "code",
   "execution_count": 43,
   "metadata": {},
   "outputs": [
    {
     "data": {
      "text/plain": [
       "'acc: 0.9184, prec: 0.7644, rec: 0.9252, sds:  0.0878, 0.2020, 0.1341'"
      ]
     },
     "execution_count": 43,
     "metadata": {},
     "output_type": "execute_result"
    }
   ],
   "source": [
    "get_metrics(rfr14, states14[test_inds], hands14[test_inds], 0.26)"
   ]
  },
  {
   "cell_type": "code",
   "execution_count": 34,
   "metadata": {},
   "outputs": [
    {
     "data": {
      "text/plain": [
       "'acc: 0.8505, prec: 0.6288, rec: 0.8471, sds:  0.1246, 0.2462, 0.1907'"
      ]
     },
     "execution_count": 34,
     "metadata": {},
     "output_type": "execute_result"
    }
   ],
   "source": [
    "get_metrics(rfr14, states32d[test_inds], hands[test_inds], 0.25)"
   ]
  },
  {
   "cell_type": "code",
   "execution_count": 25,
   "metadata": {},
   "outputs": [
    {
     "data": {
      "text/plain": [
       "('acc: 0.7756, prec: 0.4584, rec: 0.7875, sds:  0.0725, 0.1127, 0.1674',\n",
       " 'acc: 0.9381, prec: 0.8069, rec: 0.9636, sds:  0.0718, 0.1746, 0.0859',\n",
       " 'acc: 0.9295, prec: 0.7839, rec: 0.9575, sds:  0.0754, 0.1790, 0.0926')"
      ]
     },
     "execution_count": 25,
     "metadata": {},
     "output_type": "execute_result"
    }
   ],
   "source": [
    "get_metrics(rfr14, states14[100000:101000], hands14[100000:101000], 0.25), \\\n",
    "get_metrics(rfr14, states14[200000:201000], hands14[200000:201000], 0.25), \\\n",
    "get_metrics(rfr14, states14[300000:301000], hands14[300000:301000], 0.25)"
   ]
  },
  {
   "cell_type": "code",
   "execution_count": 26,
   "metadata": {},
   "outputs": [
    {
     "data": {
      "text/plain": [
       "('acc: 0.7316, prec: 0.3944, rec: 0.6844, sds:  0.0823, 0.1204, 0.1907',\n",
       " 'acc: 0.7362, prec: 0.4007, rec: 0.6962, sds:  0.0815, 0.1207, 0.1901',\n",
       " 'acc: 0.8826, prec: 0.6944, rec: 0.8826, sds:  0.1167, 0.2382, 0.1757')"
      ]
     },
     "execution_count": 26,
     "metadata": {},
     "output_type": "execute_result"
    }
   ],
   "source": [
    "get_metrics(rfr14, states32d[100000:101000], hands[100000:101000], 0.25), \\\n",
    "get_metrics(rfr14, states32d[200000:201000], hands[200000:201000], 0.25), \\\n",
    "get_metrics(rfr14, states32d[300000:301000], hands[300000:301000], 0.25)"
   ]
  },
  {
   "cell_type": "code",
   "execution_count": 46,
   "metadata": {},
   "outputs": [
    {
     "data": {
      "text/plain": [
       "array([ 79,  66,  65,  92,  93,  55,  52,  94,  81,  91,  69,  53,  80,\n",
       "        67,  54,  95,  82,  78,  56,  57,   2,  68,  70,  83,  96,  29,\n",
       "         0,  41,  27,  13,  26,   3,  28,  15,  40,  16,  14,   1,  42,\n",
       "        58,  39,  97,  84,  71,  30,   4,  17,  43,  98,  85,  59,  72,\n",
       "       155, 142,  86,  31,  73, 116, 129,  18,  44,   5,  60, 128, 141,\n",
       "       154,  64, 115,  77,  99, 114, 113, 140, 153, 127, 126, 103,  90,\n",
       "       152, 139, 102,  76, 101,  62,  89,  45,  19,  88,  63,  32,   6,\n",
       "        87,  75,  74, 100, 151, 112, 138, 125,  61,  46,   7,  33,  20,\n",
       "       111, 137, 124, 150, 110, 123, 136, 149,  47,  21,   8,  34, 148,\n",
       "       135, 109, 122, 104, 106, 145, 143, 119, 146, 117, 144, 118, 134,\n",
       "        12,  37, 147, 108, 120, 132, 107, 121,  38,  25, 133,  36, 130,\n",
       "        51,  23,  50,  49, 131,  22,  11,  10,  35,   9, 105,  24,  48])"
      ]
     },
     "execution_count": 46,
     "metadata": {},
     "output_type": "execute_result"
    }
   ],
   "source": [
    "rfr14.feature_importances_.argsort()"
   ]
  },
  {
   "cell_type": "code",
   "execution_count": 48,
   "metadata": {},
   "outputs": [
    {
     "data": {
      "text/plain": [
       "RandomForestClassifier(min_samples_leaf=4, min_samples_split=4)"
      ]
     },
     "execution_count": 48,
     "metadata": {},
     "output_type": "execute_result"
    }
   ],
   "source": [
    "rfr14s = RandomForestClassifier(min_samples_leaf=4, min_samples_split=4)\n",
    "rfr14s.fit(states14[train_inds], hands14[train_inds])"
   ]
  },
  {
   "cell_type": "code",
   "execution_count": 51,
   "metadata": {},
   "outputs": [
    {
     "data": {
      "text/plain": [
       "'acc: 0.9088, prec: 0.7404, rec: 0.9332, sds:  0.0919, 0.2051, 0.1235'"
      ]
     },
     "execution_count": 51,
     "metadata": {},
     "output_type": "execute_result"
    }
   ],
   "source": [
    "get_metrics(rfr14s, states14[test_inds], hands14[test_inds], 0.25)"
   ]
  },
  {
   "cell_type": "code",
   "execution_count": null,
   "metadata": {},
   "outputs": [],
   "source": []
  },
  {
   "cell_type": "code",
   "execution_count": 58,
   "metadata": {},
   "outputs": [],
   "source": [
    "inds3 = sample(range(len(states_d14)), 110000)\n",
    "train_inds3 = inds3[:100000]\n",
    "test_inds3 = inds3[100000:]"
   ]
  },
  {
   "cell_type": "code",
   "execution_count": 59,
   "metadata": {},
   "outputs": [
    {
     "data": {
      "text/plain": [
       "RandomForestClassifier(min_samples_leaf=4)"
      ]
     },
     "execution_count": 59,
     "metadata": {},
     "output_type": "execute_result"
    }
   ],
   "source": [
    "rfrd14 = RandomForestClassifier(min_samples_leaf=4)\n",
    "rfrd14.fit(states_d14[train_inds3], hands_d14[train_inds3])"
   ]
  },
  {
   "cell_type": "code",
   "execution_count": 60,
   "metadata": {},
   "outputs": [
    {
     "data": {
      "text/plain": [
       "'acc: 0.8147, prec: 0.5328, rec: 0.8539, sds:  0.0909, 0.1638, 0.1627'"
      ]
     },
     "execution_count": 60,
     "metadata": {},
     "output_type": "execute_result"
    }
   ],
   "source": [
    "get_metrics(rfrd14, states_d14[test_inds3], hands_d14[test_inds3], 0.25)"
   ]
  },
  {
   "cell_type": "code",
   "execution_count": null,
   "metadata": {},
   "outputs": [],
   "source": []
  },
  {
   "cell_type": "code",
   "execution_count": null,
   "metadata": {},
   "outputs": [],
   "source": []
  },
  {
   "cell_type": "code",
   "execution_count": null,
   "metadata": {},
   "outputs": [],
   "source": [
    "# how often does opponent pick from discard pile?"
   ]
  },
  {
   "cell_type": "code",
   "execution_count": 62,
   "metadata": {},
   "outputs": [
    {
     "data": {
      "text/plain": [
       "(1760943, 52)"
      ]
     },
     "execution_count": 62,
     "metadata": {},
     "output_type": "execute_result"
    }
   ],
   "source": [
    "states32d[sum_states2d > 18][:,52:104].shape"
   ]
  },
  {
   "cell_type": "code",
   "execution_count": 69,
   "metadata": {},
   "outputs": [],
   "source": [
    "temp = states32d[sum_states2d > 20][:,52:104].sum(axis=1)"
   ]
  },
  {
   "cell_type": "code",
   "execution_count": 72,
   "metadata": {},
   "outputs": [
    {
     "data": {
      "text/plain": [
       "(0.8331296067421066, 1.0, 0.8493636545204086)"
      ]
     },
     "execution_count": 72,
     "metadata": {},
     "output_type": "execute_result"
    }
   ],
   "source": [
    "np.mean(temp), np.median(temp), np.std(temp)"
   ]
  },
  {
   "cell_type": "markdown",
   "metadata": {},
   "source": [
    "# Directly predict what's in the draw pile"
   ]
  },
  {
   "cell_type": "code",
   "execution_count": 73,
   "metadata": {},
   "outputs": [
    {
     "data": {
      "text/plain": [
       "(2571176, 52)"
      ]
     },
     "execution_count": 73,
     "metadata": {},
     "output_type": "execute_result"
    }
   ],
   "source": [
    "hands.shape"
   ]
  },
  {
   "cell_type": "code",
   "execution_count": 20,
   "metadata": {},
   "outputs": [],
   "source": [
    "pile = np.zeros((2571176, 52))"
   ]
  },
  {
   "cell_type": "code",
   "execution_count": 21,
   "metadata": {},
   "outputs": [],
   "source": [
    "known = states32d[:,:52] + states32d[:,52:104] + states32d[:,104:] + hands"
   ]
  },
  {
   "cell_type": "code",
   "execution_count": 22,
   "metadata": {},
   "outputs": [],
   "source": [
    "known[known > 1] = 1"
   ]
  },
  {
   "cell_type": "code",
   "execution_count": 23,
   "metadata": {},
   "outputs": [],
   "source": [
    "pile = 1 - known"
   ]
  },
  {
   "cell_type": "code",
   "execution_count": 40,
   "metadata": {},
   "outputs": [
    {
     "data": {
      "text/plain": [
       "RandomForestClassifier(min_samples_leaf=4)"
      ]
     },
     "execution_count": 40,
     "metadata": {},
     "output_type": "execute_result"
    }
   ],
   "source": [
    "rfpile = RandomForestClassifier(min_samples_leaf=4)\n",
    "rfpile.fit(states32d[train_inds2], pile[train_inds2])"
   ]
  },
  {
   "cell_type": "code",
   "execution_count": 41,
   "metadata": {},
   "outputs": [
    {
     "data": {
      "text/plain": [
       "array([0.33746565, 0.54961626, 0.48969099, 0.59257044, 0.35065252,\n",
       "       0.38682153, 0.42422748, 0.43479037, 0.49892854, 0.60086149,\n",
       "       0.46901007, 0.63937902, 0.64903898, 0.53656733, 0.51482935,\n",
       "       0.49417144, 0.46260994, 0.48910171, 0.41945893, 0.54474525,\n",
       "       0.58862513, 0.6164573 , 0.19959224, 0.68780603, 0.68107837,\n",
       "       0.17799965, 0.54410037, 0.57216117, 0.3632502 , 0.3407094 ,\n",
       "       0.44109234, 0.5451472 , 0.57564063, 0.47871375, 0.43911355,\n",
       "       0.32346161, 0.29076836, 0.22656658, 0.71270452, 0.31068026,\n",
       "       0.54948486, 0.53390004, 0.40582029, 0.51751168, 0.56449439,\n",
       "       0.57582776, 0.57737602, 0.54482471, 0.72262143, 0.19479898,\n",
       "       0.42678113, 0.73830057])"
      ]
     },
     "execution_count": 41,
     "metadata": {},
     "output_type": "execute_result"
    }
   ],
   "source": [
    "predict_opponent_hand(rfpile, states32d[102000])"
   ]
  },
  {
   "cell_type": "code",
   "execution_count": 51,
   "metadata": {},
   "outputs": [
    {
     "data": {
      "text/plain": [
       "'acc: 0.8452, prec: 0.7955, rec: 0.9751, sds:  0.1147, 0.1389, 0.0943'"
      ]
     },
     "execution_count": 51,
     "metadata": {},
     "output_type": "execute_result"
    }
   ],
   "source": [
    "get_metrics(rfpile, states32d[test_inds2], pile[test_inds2], 0.42)"
   ]
  },
  {
   "cell_type": "code",
   "execution_count": 52,
   "metadata": {},
   "outputs": [
    {
     "data": {
      "text/plain": [
       "'acc: 0.8750, prec: 0.8394, rec: 0.9559, sds:  0.1030, 0.1308, 0.1273'"
      ]
     },
     "execution_count": 52,
     "metadata": {},
     "output_type": "execute_result"
    }
   ],
   "source": [
    "get_metrics(rfpile, states32d[test_inds2], pile[test_inds2], 0.45)"
   ]
  },
  {
   "cell_type": "code",
   "execution_count": 56,
   "metadata": {},
   "outputs": [],
   "source": [
    "dill_save(rfpile, 'rfpile.obj')"
   ]
  },
  {
   "cell_type": "code",
   "execution_count": 28,
   "metadata": {},
   "outputs": [
    {
     "data": {
      "text/plain": [
       "RandomForestClassifier(min_samples_leaf=2)"
      ]
     },
     "execution_count": 28,
     "metadata": {},
     "output_type": "execute_result"
    }
   ],
   "source": [
    "rfpile2 = RandomForestClassifier(min_samples_leaf=2)\n",
    "rfpile2.fit(states32d[train_inds2], pile[train_inds2])"
   ]
  },
  {
   "cell_type": "code",
   "execution_count": 72,
   "metadata": {},
   "outputs": [
    {
     "data": {
      "text/plain": [
       "'acc: 0.9137, prec: 0.8875, rec: 0.9675, sds:  0.1012, 0.1288, 0.1043'"
      ]
     },
     "execution_count": 72,
     "metadata": {},
     "output_type": "execute_result"
    }
   ],
   "source": [
    "get_metrics(rfpile2, states32d[test_inds2], pile[test_inds2], 0.45)"
   ]
  },
  {
   "cell_type": "code",
   "execution_count": 29,
   "metadata": {},
   "outputs": [
    {
     "name": "stderr",
     "output_type": "stream",
     "text": [
      "/Users/mayjiang/Library/Python/3.7/lib/python/site-packages/ipykernel_launcher.py:8: RuntimeWarning: invalid value encountered in long_scalars\n",
      "  \n"
     ]
    },
    {
     "data": {
      "text/plain": [
       "'acc: 0.8914, prec: nan, rec: 0.9796, sds:  0.1156, nan, 0.0795'"
      ]
     },
     "execution_count": 29,
     "metadata": {},
     "output_type": "execute_result"
    }
   ],
   "source": [
    "get_metrics(rfpile2, states32d[test_inds2], pile[test_inds2], 0.42)"
   ]
  },
  {
   "cell_type": "markdown",
   "metadata": {},
   "source": [
    "# Predicting opponent's next discard"
   ]
  },
  {
   "cell_type": "code",
   "execution_count": 2,
   "metadata": {},
   "outputs": [],
   "source": [
    "# given opponent's actual hand, opponent discards, predict which one opponent discards next \n",
    "# --> then feed it predicted opponent hand\n",
    "# OR, directly predict given your hand, opponent discards, opponent known cards, what the opponent discards next"
   ]
  },
  {
   "cell_type": "code",
   "execution_count": 35,
   "metadata": {},
   "outputs": [],
   "source": [
    "def un_one_hot(arr):\n",
    "    rankNames = [\"A\", \"2\", \"3\", \"4\", \"5\", \"6\", \"7\", \"8\", \"9\", \"T\", \"J\", \"Q\", \"K\"]\n",
    "    suitNames = [\"C\", \"H\", \"S\", \"D\"]\n",
    "    ret = []\n",
    "    for i in range(len(arr)):\n",
    "        if arr[i] != 0:\n",
    "            ret.append(rankNames[i%13] + suitNames[i//13])\n",
    "    return ret"
   ]
  },
  {
   "cell_type": "code",
   "execution_count": 55,
   "metadata": {},
   "outputs": [],
   "source": [
    "states_dis = np.load('states_dis.npy')\n",
    "hands_dis = np.load('hands_dis.npy')\n",
    "dis = np.load('dis.npy')"
   ]
  },
  {
   "cell_type": "code",
   "execution_count": 56,
   "metadata": {},
   "outputs": [
    {
     "name": "stdout",
     "output_type": "stream",
     "text": [
      "['QS']\n",
      "['JH']\n",
      "['3H', '6H', 'QH', '6S', '7S', 'AD', '2D', '6D', '7D', '9D']\n",
      "-----\n",
      "['KC', 'QS']\n",
      "[]\n",
      "['5C', 'AH', '2H', 'JH', '3S', '4S', 'JS', '4D', '5D', 'JD']\n",
      "-----\n",
      "['6C', 'KC', 'QS']\n",
      "['JH']\n",
      "['3H', '6H', 'QH', '6S', '7S', 'AD', '2D', '6D', '7D', '9D']\n",
      "-----\n",
      "['KC', 'QH', 'QS']\n",
      "['6C']\n",
      "['5C', 'AH', '2H', 'JH', '3S', '4S', 'JS', '4D', '5D', 'JD']\n",
      "-----\n",
      "['6C', 'KC', 'TH', 'QH', 'QS']\n",
      "['JH']\n",
      "['6C', '3H', '6H', '6S', '7S', 'AD', '2D', '6D', '7D', '9D']\n",
      "-----\n"
     ]
    }
   ],
   "source": [
    "for x in states_dis[:5]:\n",
    "    for y in x:\n",
    "        print(un_one_hot(y))\n",
    "    print(\"-----\")"
   ]
  },
  {
   "cell_type": "code",
   "execution_count": 57,
   "metadata": {},
   "outputs": [
    {
     "name": "stdout",
     "output_type": "stream",
     "text": [
      "['5C', 'AH', '2H', 'JH', '3S', '4S', 'JS', '4D', '5D', 'JD']\n",
      "['3H', '6H', 'QH', '6S', '7S', 'AD', '2D', '6D', '7D', '9D']\n",
      "['5C', 'AH', '2H', 'JH', '3S', '4S', 'JS', '4D', '5D', 'JD']\n",
      "['6C', '3H', '6H', '6S', '7S', 'AD', '2D', '6D', '7D', '9D']\n",
      "['5C', 'AH', '2H', 'JH', '3S', '4S', 'JS', '4D', '5D', 'JD']\n"
     ]
    }
   ],
   "source": [
    "for x in hands_dis[:5]:\n",
    "    print(un_one_hot(x))"
   ]
  },
  {
   "cell_type": "code",
   "execution_count": 58,
   "metadata": {},
   "outputs": [
    {
     "name": "stdout",
     "output_type": "stream",
     "text": [
      "['QS']\n",
      "['KC']\n",
      "['6C']\n",
      "['QH']\n",
      "['TH']\n"
     ]
    }
   ],
   "source": [
    "for x in dis[:5]:\n",
    "    print(un_one_hot(x))"
   ]
  },
  {
   "cell_type": "code",
   "execution_count": 59,
   "metadata": {},
   "outputs": [
    {
     "data": {
      "text/plain": [
       "((1271934, 52), (1271934, 52))"
      ]
     },
     "execution_count": 59,
     "metadata": {},
     "output_type": "execute_result"
    }
   ],
   "source": [
    "hands_dis2 = hands_dis[:-2]\n",
    "dis2 = dis[2:]\n",
    "hands_dis2.shape, dis2.shape"
   ]
  },
  {
   "cell_type": "code",
   "execution_count": 63,
   "metadata": {},
   "outputs": [
    {
     "name": "stdout",
     "output_type": "stream",
     "text": [
      "['6C']\n",
      "['QH']\n",
      "['TH']\n",
      "['JC']\n",
      "['5D']\n"
     ]
    }
   ],
   "source": [
    "for x in dis2[:5]:\n",
    "    print(un_one_hot(x))"
   ]
  },
  {
   "cell_type": "code",
   "execution_count": 66,
   "metadata": {},
   "outputs": [],
   "source": [
    "inds = sample(range(len(hands_dis2)), 200000)\n",
    "train_inds = inds[:100000]\n",
    "test_inds = inds[100000:]"
   ]
  },
  {
   "cell_type": "code",
   "execution_count": 67,
   "metadata": {},
   "outputs": [
    {
     "data": {
      "text/plain": [
       "RandomForestClassifier(min_samples_leaf=2)"
      ]
     },
     "execution_count": 67,
     "metadata": {},
     "output_type": "execute_result"
    }
   ],
   "source": [
    "rfdis = RandomForestClassifier(min_samples_leaf=2)\n",
    "rfdis.fit(hands_dis2[train_inds], dis2[train_inds])"
   ]
  },
  {
   "cell_type": "code",
   "execution_count": 73,
   "metadata": {},
   "outputs": [
    {
     "data": {
      "text/plain": [
       "24"
      ]
     },
     "execution_count": 73,
     "metadata": {},
     "output_type": "execute_result"
    }
   ],
   "source": [
    "np.argmin([x[0][0] for x in rfdis.predict_proba([hands_dis2[100000]])])"
   ]
  },
  {
   "cell_type": "code",
   "execution_count": 82,
   "metadata": {},
   "outputs": [
    {
     "data": {
      "text/plain": [
       "0.05"
      ]
     },
     "execution_count": 82,
     "metadata": {},
     "output_type": "execute_result"
    }
   ],
   "source": [
    "correct = 0\n",
    "for i, x in enumerate(hands_dis2[test_inds[:100]]):\n",
    "    if np.argmax([y[0][1] for y in rfdis.predict_proba([x])]) == np.argmax(dis2[i]):\n",
    "        correct += 1\n",
    "correct/100"
   ]
  }
 ],
 "metadata": {
  "kernelspec": {
   "display_name": "Python 3",
   "language": "python",
   "name": "python3"
  },
  "language_info": {
   "codemirror_mode": {
    "name": "ipython",
    "version": 3
   },
   "file_extension": ".py",
   "mimetype": "text/x-python",
   "name": "python",
   "nbconvert_exporter": "python",
   "pygments_lexer": "ipython3",
   "version": "3.7.8"
  }
 },
 "nbformat": 4,
 "nbformat_minor": 2
}
